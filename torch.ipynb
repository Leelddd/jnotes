{
  "nbformat": 4,
  "nbformat_minor": 0,
  "metadata": {
    "colab": {
      "name": "torch.ipynb",
      "version": "0.3.2",
      "provenance": [],
      "include_colab_link": true
    },
    "kernelspec": {
      "name": "python3",
      "display_name": "Python 3"
    },
    "accelerator": "GPU"
  },
  "cells": [
    {
      "cell_type": "markdown",
      "metadata": {
        "id": "view-in-github",
        "colab_type": "text"
      },
      "source": [
        "<a href=\"https://colab.research.google.com/github/idleyui/python-notebook/blob/master/torch.ipynb\" target=\"_parent\"><img src=\"https://colab.research.google.com/assets/colab-badge.svg\" alt=\"Open In Colab\"/></a>"
      ]
    },
    {
      "cell_type": "code",
      "metadata": {
        "id": "WJ1tOWEcdp0q",
        "colab_type": "code",
        "colab": {}
      },
      "source": [
        "import torch\n",
        "import random"
      ],
      "execution_count": 0,
      "outputs": []
    },
    {
      "cell_type": "code",
      "metadata": {
        "id": "BIA1zQQYeQsh",
        "colab_type": "code",
        "outputId": "8b68cc9b-679a-469e-bd75-b071b23f075e",
        "colab": {
          "base_uri": "https://localhost:8080/",
          "height": 84
        }
      },
      "source": [
        "t = torch.tensor(range(4)).reshape(4,1)\n",
        "t"
      ],
      "execution_count": 0,
      "outputs": [
        {
          "output_type": "execute_result",
          "data": {
            "text/plain": [
              "tensor([[0],\n",
              "        [1],\n",
              "        [2],\n",
              "        [3]])"
            ]
          },
          "metadata": {
            "tags": []
          },
          "execution_count": 2
        }
      ]
    },
    {
      "cell_type": "code",
      "metadata": {
        "id": "aR9K1YZxeUk4",
        "colab_type": "code",
        "outputId": "03adb9bf-53e2-4b6e-a1f5-a361e3bc1afe",
        "colab": {
          "base_uri": "https://localhost:8080/",
          "height": 84
        }
      },
      "source": [
        "t.expand(-1, 4)"
      ],
      "execution_count": 0,
      "outputs": [
        {
          "output_type": "execute_result",
          "data": {
            "text/plain": [
              "tensor([[0, 0, 0, 0],\n",
              "        [1, 1, 1, 1],\n",
              "        [2, 2, 2, 2],\n",
              "        [3, 3, 3, 3]])"
            ]
          },
          "metadata": {
            "tags": []
          },
          "execution_count": 3
        }
      ]
    },
    {
      "cell_type": "code",
      "metadata": {
        "id": "8wpKVexQeXHQ",
        "colab_type": "code",
        "outputId": "3f8f24fb-c2fa-413c-a79a-4fceb5522165",
        "colab": {
          "base_uri": "https://localhost:8080/",
          "height": 162
        }
      },
      "source": [
        "t# expand only works along *singleton* dimensions of the input tensor, this won't work\n",
        "# https://stackoverflow.com/questions/53975352/using-expand-dims-in-pytorch\n",
        "t.expand(8, -1)"
      ],
      "execution_count": 0,
      "outputs": [
        {
          "output_type": "error",
          "ename": "RuntimeError",
          "evalue": "ignored",
          "traceback": [
            "\u001b[0;31m---------------------------------------------------------------------------\u001b[0m",
            "\u001b[0;31mRuntimeError\u001b[0m                              Traceback (most recent call last)",
            "\u001b[0;32m<ipython-input-4-b6c8d79e74bb>\u001b[0m in \u001b[0;36m<module>\u001b[0;34m()\u001b[0m\n\u001b[0;32m----> 1\u001b[0;31m \u001b[0mt\u001b[0m\u001b[0;34m.\u001b[0m\u001b[0mexpand\u001b[0m\u001b[0;34m(\u001b[0m\u001b[0;36m8\u001b[0m\u001b[0;34m,\u001b[0m \u001b[0;34m-\u001b[0m\u001b[0;36m1\u001b[0m\u001b[0;34m)\u001b[0m\u001b[0;34m\u001b[0m\u001b[0;34m\u001b[0m\u001b[0m\n\u001b[0m",
            "\u001b[0;31mRuntimeError\u001b[0m: The expanded size of the tensor (8) must match the existing size (4) at non-singleton dimension 0.  Target sizes: [8, -1].  Tensor sizes: [4, 1]"
          ]
        }
      ]
    },
    {
      "cell_type": "code",
      "metadata": {
        "id": "Q4N5lXM0qowy",
        "colab_type": "code",
        "outputId": "3fbb067a-57b7-428d-d023-8f39a0c12719",
        "colab": {
          "base_uri": "https://localhost:8080/",
          "height": 34
        }
      },
      "source": [
        "l = list(range(12))\n",
        "random.shuffle(l)\n",
        "l"
      ],
      "execution_count": 0,
      "outputs": [
        {
          "output_type": "execute_result",
          "data": {
            "text/plain": [
              "[5, 0, 10, 8, 3, 7, 6, 1, 2, 11, 4, 9]"
            ]
          },
          "metadata": {
            "tags": []
          },
          "execution_count": 6
        }
      ]
    },
    {
      "cell_type": "code",
      "metadata": {
        "id": "SKW7RVXlel3Q",
        "colab_type": "code",
        "outputId": "b68dff5c-8dbe-4d6d-f76f-b2ffd94e714a",
        "colab": {
          "base_uri": "https://localhost:8080/",
          "height": 67
        }
      },
      "source": [
        "random_t = torch.tensor(l).reshape(3,4)\n",
        "random_t"
      ],
      "execution_count": 0,
      "outputs": [
        {
          "output_type": "execute_result",
          "data": {
            "text/plain": [
              "tensor([[ 5,  0, 10,  8],\n",
              "        [ 3,  7,  6,  1],\n",
              "        [ 2, 11,  4,  9]])"
            ]
          },
          "metadata": {
            "tags": []
          },
          "execution_count": 7
        }
      ]
    },
    {
      "cell_type": "code",
      "metadata": {
        "id": "fYzLq6xqrHiB",
        "colab_type": "code",
        "outputId": "715eb172-b604-4e16-dd85-55033c108cf5",
        "colab": {
          "base_uri": "https://localhost:8080/",
          "height": 101
        }
      },
      "source": [
        "random_t.topk(2)"
      ],
      "execution_count": 0,
      "outputs": [
        {
          "output_type": "execute_result",
          "data": {
            "text/plain": [
              "torch.return_types.topk(values=tensor([[10,  8],\n",
              "        [ 7,  6],\n",
              "        [11,  9]]), indices=tensor([[2, 3],\n",
              "        [1, 2],\n",
              "        [1, 3]]))"
            ]
          },
          "metadata": {
            "tags": []
          },
          "execution_count": 8
        }
      ]
    },
    {
      "cell_type": "code",
      "metadata": {
        "id": "iQQxe0QhrIAd",
        "colab_type": "code",
        "outputId": "7f7dc3e8-6dab-4df2-dc1f-cc806710025e",
        "colab": {
          "base_uri": "https://localhost:8080/",
          "height": 67
        }
      },
      "source": [
        "random_t"
      ],
      "execution_count": 0,
      "outputs": [
        {
          "output_type": "execute_result",
          "data": {
            "text/plain": [
              "tensor([[ 5,  0, 10,  8],\n",
              "        [ 3,  7,  6,  1],\n",
              "        [ 2, 11,  4,  9]])"
            ]
          },
          "metadata": {
            "tags": []
          },
          "execution_count": 9
        }
      ]
    },
    {
      "cell_type": "code",
      "metadata": {
        "id": "Kne489UZbAU6",
        "colab_type": "code",
        "outputId": "1e6d82d2-b7e4-431d-eb6d-ef9c381c3224",
        "colab": {
          "base_uri": "https://localhost:8080/",
          "height": 252
        }
      },
      "source": [
        "random_t.new_full((*random_t.size(), 2), -1)"
      ],
      "execution_count": 0,
      "outputs": [
        {
          "output_type": "execute_result",
          "data": {
            "text/plain": [
              "tensor([[[-1, -1],\n",
              "         [-1, -1],\n",
              "         [-1, -1],\n",
              "         [-1, -1]],\n",
              "\n",
              "        [[-1, -1],\n",
              "         [-1, -1],\n",
              "         [-1, -1],\n",
              "         [-1, -1]],\n",
              "\n",
              "        [[-1, -1],\n",
              "         [-1, -1],\n",
              "         [-1, -1],\n",
              "         [-1, -1]]])"
            ]
          },
          "metadata": {
            "tags": []
          },
          "execution_count": 12
        }
      ]
    },
    {
      "cell_type": "code",
      "metadata": {
        "id": "YEWfLwRnbVlY",
        "colab_type": "code",
        "outputId": "d722662c-e376-479e-dcd5-553a2172f992",
        "colab": {
          "base_uri": "https://localhost:8080/",
          "height": 50
        }
      },
      "source": [
        "predict = torch.Tensor(list(range(6))).reshape(2,3)\n",
        "attn = torch.Tensor(list(range(24))).reshape(2,3,4)\n",
        "predict"
      ],
      "execution_count": 0,
      "outputs": [
        {
          "output_type": "execute_result",
          "data": {
            "text/plain": [
              "tensor([[0., 1., 2.],\n",
              "        [3., 4., 5.]])"
            ]
          },
          "metadata": {
            "tags": []
          },
          "execution_count": 26
        }
      ]
    },
    {
      "cell_type": "code",
      "metadata": {
        "id": "tHyz59Mgxdwi",
        "colab_type": "code",
        "outputId": "26e5ad18-7f07-486f-b919-9e47b44fa99c",
        "colab": {
          "base_uri": "https://localhost:8080/",
          "height": 134
        }
      },
      "source": [
        "attn"
      ],
      "execution_count": 0,
      "outputs": [
        {
          "output_type": "execute_result",
          "data": {
            "text/plain": [
              "tensor([[[ 0.,  1.,  2.,  3.],\n",
              "         [ 4.,  5.,  6.,  7.],\n",
              "         [ 8.,  9., 10., 11.]],\n",
              "\n",
              "        [[12., 13., 14., 15.],\n",
              "         [16., 17., 18., 19.],\n",
              "         [20., 21., 22., 23.]]])"
            ]
          },
          "metadata": {
            "tags": []
          },
          "execution_count": 27
        }
      ]
    },
    {
      "cell_type": "code",
      "metadata": {
        "id": "b7uLpuPZm6xx",
        "colab_type": "code",
        "outputId": "d9e669b2-d6cc-40d6-82cd-d15ff853b0b9",
        "colab": {
          "base_uri": "https://localhost:8080/",
          "height": 50
        }
      },
      "source": [
        "index = torch.LongTensor([[2,1,0],[0,1,2]])\n",
        "index"
      ],
      "execution_count": 0,
      "outputs": [
        {
          "output_type": "execute_result",
          "data": {
            "text/plain": [
              "tensor([[2, 1, 0],\n",
              "        [0, 1, 2]])"
            ]
          },
          "metadata": {
            "tags": []
          },
          "execution_count": 30
        }
      ]
    },
    {
      "cell_type": "code",
      "metadata": {
        "id": "KJRGkHxkwTmZ",
        "colab_type": "code",
        "outputId": "aa2ba9b5-1f47-473c-8acd-62ba74043f76",
        "colab": {
          "base_uri": "https://localhost:8080/",
          "height": 134
        }
      },
      "source": [
        "attn_index = index.unsqueeze(-1).expand_as(b)\n",
        "attn_index"
      ],
      "execution_count": 0,
      "outputs": [
        {
          "output_type": "execute_result",
          "data": {
            "text/plain": [
              "tensor([[[2, 2, 2, 2],\n",
              "         [1, 1, 1, 1],\n",
              "         [0, 0, 0, 0]],\n",
              "\n",
              "        [[0, 0, 0, 0],\n",
              "         [1, 1, 1, 1],\n",
              "         [2, 2, 2, 2]]])"
            ]
          },
          "metadata": {
            "tags": []
          },
          "execution_count": 32
        }
      ]
    },
    {
      "cell_type": "code",
      "metadata": {
        "id": "0Rpb36D_m_hL",
        "colab_type": "code",
        "outputId": "d43cc927-28bc-4f16-c04c-af130cbb4ca6",
        "colab": {
          "base_uri": "https://localhost:8080/",
          "height": 134
        }
      },
      "source": [
        "torch.gather(attn, dim=1, index=attn_index)"
      ],
      "execution_count": 0,
      "outputs": [
        {
          "output_type": "execute_result",
          "data": {
            "text/plain": [
              "tensor([[[ 8.,  9., 10., 11.],\n",
              "         [ 4.,  5.,  6.,  7.],\n",
              "         [ 0.,  1.,  2.,  3.]],\n",
              "\n",
              "        [[12., 13., 14., 15.],\n",
              "         [16., 17., 18., 19.],\n",
              "         [20., 21., 22., 23.]]])"
            ]
          },
          "metadata": {
            "tags": []
          },
          "execution_count": 36
        }
      ]
    },
    {
      "cell_type": "code",
      "metadata": {
        "id": "SE1xu-r8nCb7",
        "colab_type": "code",
        "outputId": "d13bf661-9bc1-4a88-dac0-822b83c4508c",
        "colab": {
          "base_uri": "https://localhost:8080/",
          "height": 50
        }
      },
      "source": [
        "torch.gather(predict, dim=1, index=index)"
      ],
      "execution_count": 0,
      "outputs": [
        {
          "output_type": "execute_result",
          "data": {
            "text/plain": [
              "tensor([[2., 1., 0.],\n",
              "        [3., 4., 5.]])"
            ]
          },
          "metadata": {
            "tags": []
          },
          "execution_count": 35
        }
      ]
    },
    {
      "cell_type": "code",
      "metadata": {
        "id": "2kJkup4Ix8h0",
        "colab_type": "code",
        "colab": {}
      },
      "source": [
        ""
      ],
      "execution_count": 0,
      "outputs": []
    }
  ]
}