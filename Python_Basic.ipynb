{
 "cells": [
  {
   "cell_type": "markdown",
   "metadata": {},
   "source": [
    "# Fundamental"
   ]
  },
  {
   "cell_type": "markdown",
   "metadata": {},
   "source": [
    "## Type"
   ]
  },
  {
   "cell_type": "code",
   "execution_count": 246,
   "metadata": {},
   "outputs": [
    {
     "data": {
      "text/plain": [
       "True"
      ]
     },
     "execution_count": 246,
     "metadata": {},
     "output_type": "execute_result"
    }
   ],
   "source": [
    "a = 1\n",
    "isinstance(a, int)"
   ]
  },
  {
   "cell_type": "markdown",
   "metadata": {},
   "source": [
    "### Basic"
   ]
  },
  {
   "cell_type": "code",
   "execution_count": 106,
   "metadata": {},
   "outputs": [
    {
     "name": "stdout",
     "output_type": "stream",
     "text": [
      "2 0.2 str True None\n"
     ]
    }
   ],
   "source": [
    "# basic types: integer, float, string, boolean, none\n",
    "i = 2\n",
    "f = .2\n",
    "s = 'str'\n",
    "b = True\n",
    "n = None\n",
    "print(i,f,s,b,n)"
   ]
  },
  {
   "cell_type": "markdown",
   "metadata": {},
   "source": [
    "### Boolean"
   ]
  },
  {
   "cell_type": "code",
   "execution_count": 107,
   "metadata": {},
   "outputs": [
    {
     "name": "stdout",
     "output_type": "stream",
     "text": [
      "False True False\n"
     ]
    }
   ],
   "source": [
    "# boolean: use and or not instead of & | ~\n",
    "t = True\n",
    "f = False\n",
    "print(t and f, t or f, not t)"
   ]
  },
  {
   "cell_type": "markdown",
   "metadata": {},
   "source": [
    "### String"
   ]
  },
  {
   "cell_type": "markdown",
   "metadata": {},
   "source": [
    "#### encoding and decoding"
   ]
  },
  {
   "cell_type": "code",
   "execution_count": 54,
   "metadata": {},
   "outputs": [
    {
     "name": "stdout",
     "output_type": "stream",
     "text": [
      "97 a\n",
      "b'asciionly'\n",
      "b'abc' b'\\xe4\\xb8\\xad\\xe6\\x96\\x87'\n",
      "abc 中文\n",
      "中\n"
     ]
    },
    {
     "data": {
      "text/plain": [
       "';'"
      ]
     },
     "execution_count": 54,
     "metadata": {},
     "output_type": "execute_result"
    }
   ],
   "source": [
    "# trans char and its code integer\n",
    "print(ord('a'), chr(97))\n",
    "# str to bytes - ascii only, no Chinese etc\n",
    "s = b'asciionly'\n",
    "print(s)\n",
    "# encoding\n",
    "print('abc'.encode('ascii'), '中文'.encode('utf-8'))\n",
    "# decoding\n",
    "print(b'abc'.decode('ascii'),\n",
    "      b'\\xe4\\xb8\\xad\\xe6\\x96\\x87'.decode('utf-8'))\n",
    "# ignore some invalid bytes\n",
    "print(b'\\xe4\\xb8\\xad\\xe6'.decode('utf-8', errors='ignore'))\n",
    "'\\u003b'.encode('unicode-escape').decode('utf-8')"
   ]
  },
  {
   "cell_type": "markdown",
   "metadata": {},
   "source": [
    "#### Format"
   ]
  },
  {
   "cell_type": "code",
   "execution_count": 37,
   "metadata": {},
   "outputs": [
    {
     "data": {
      "text/plain": [
       "(' 3-001', '3.14', 'name: Michael, age: 40, salary: 10000.000000, encoding: f')"
      ]
     },
     "execution_count": 37,
     "metadata": {},
     "output_type": "execute_result"
    }
   ],
   "source": [
    "# complement int with space or 0\n",
    "s = '%2d-%03d' % (3, 1)\n",
    "# decimal digits\n",
    "sf = '%.2f' % 3.1415\n",
    "s1 = 'name: %s, age: %d, salary: %f, encoding: %x'%('Michael', 40, 1e4, 15)\n",
    "s, sf, s1"
   ]
  },
  {
   "cell_type": "code",
   "execution_count": 110,
   "metadata": {},
   "outputs": [
    {
     "data": {
      "text/plain": [
       "'name: Michael, age: 40, salary: 10000.0, encoding: 15'"
      ]
     },
     "execution_count": 110,
     "metadata": {},
     "output_type": "execute_result"
    }
   ],
   "source": [
    "# use format() instead\n",
    "s = 'name: {0}, age: {1}, salary: {2}, encoding: {3}'.format('Michael', 40, 1e4, 15)\n",
    "s"
   ]
  },
  {
   "cell_type": "code",
   "execution_count": 111,
   "metadata": {},
   "outputs": [
    {
     "name": "stdout",
     "output_type": "stream",
     "text": [
      "\ta\n",
      "\\ta\n"
     ]
    }
   ],
   "source": [
    "# use r to ban escape\n",
    "s1 = '\\ta'\n",
    "s2 = r'\\ta'\n",
    "print(s1)\n",
    "print(s2)"
   ]
  },
  {
   "cell_type": "markdown",
   "metadata": {},
   "source": [
    "## Print"
   ]
  },
  {
   "cell_type": "code",
   "execution_count": 24,
   "metadata": {},
   "outputs": [
    {
     "name": "stdout",
     "output_type": "stream",
     "text": [
      "line1\n",
      "2\n",
      "3\n"
     ]
    }
   ],
   "source": [
    "# print multi lines\n",
    "print('''line1\n",
    "2\n",
    "3''')"
   ]
  },
  {
   "cell_type": "code",
   "execution_count": 262,
   "metadata": {},
   "outputs": [
    {
     "name": "stdout",
     "output_type": "stream",
     "text": [
      "0,1,2,3,4,5,6,7,8,9,"
     ]
    }
   ],
   "source": [
    "# print not change line\n",
    "for i in range(10):\n",
    "    print(i, end=',')"
   ]
  },
  {
   "cell_type": "markdown",
   "metadata": {},
   "source": [
    "## Loop"
   ]
  },
  {
   "cell_type": "markdown",
   "metadata": {},
   "source": [
    "### range"
   ]
  },
  {
   "cell_type": "code",
   "execution_count": 112,
   "metadata": {},
   "outputs": [
    {
     "data": {
      "text/plain": [
       "range(0, 10)"
      ]
     },
     "execution_count": 112,
     "metadata": {},
     "output_type": "execute_result"
    }
   ],
   "source": [
    "range(10)"
   ]
  },
  {
   "cell_type": "markdown",
   "metadata": {},
   "source": [
    "## Operator"
   ]
  },
  {
   "cell_type": "code",
   "execution_count": 13,
   "metadata": {},
   "outputs": [
    {
     "data": {
      "text/plain": [
       "2"
      ]
     },
     "execution_count": 13,
     "metadata": {},
     "output_type": "execute_result"
    }
   ],
   "source": [
    "num = 1 if 3 < 2 else 2\n",
    "num"
   ]
  },
  {
   "cell_type": "markdown",
   "metadata": {},
   "source": [
    "# Function"
   ]
  },
  {
   "cell_type": "code",
   "execution_count": 138,
   "metadata": {},
   "outputs": [
    {
     "name": "stdout",
     "output_type": "stream",
     "text": [
      "Help on built-in function abs in module builtins:\n",
      "\n",
      "abs(x, /)\n",
      "    Return the absolute value of the argument.\n",
      "\n"
     ]
    }
   ],
   "source": [
    "help(abs)"
   ]
  },
  {
   "cell_type": "markdown",
   "metadata": {},
   "source": [
    "## Args"
   ]
  },
  {
   "cell_type": "markdown",
   "metadata": {},
   "source": [
    "### Default Args"
   ]
  },
  {
   "cell_type": "code",
   "execution_count": 148,
   "metadata": {},
   "outputs": [
    {
     "data": {
      "text/plain": [
       "(1, 4, 2)"
      ]
     },
     "execution_count": 148,
     "metadata": {},
     "output_type": "execute_result"
    }
   ],
   "source": [
    "def multi(x, y=1):\n",
    "    return x * y * y\n",
    "multi(1), multi(1, 2), multi(y=1, x=2)"
   ]
  },
  {
   "cell_type": "code",
   "execution_count": 158,
   "metadata": {},
   "outputs": [
    {
     "data": {
      "text/plain": [
       "2"
      ]
     },
     "execution_count": 158,
     "metadata": {},
     "output_type": "execute_result"
    }
   ],
   "source": [
    "def multi(x=1):\n",
    "    return x * 2\n",
    "multi()"
   ]
  },
  {
   "cell_type": "code",
   "execution_count": null,
   "metadata": {},
   "outputs": [],
   "source": [
    "# this is ok\n",
    "multi()"
   ]
  },
  {
   "cell_type": "code",
   "execution_count": 155,
   "metadata": {},
   "outputs": [
    {
     "data": {
      "text/plain": [
       "[1]"
      ]
     },
     "execution_count": 155,
     "metadata": {},
     "output_type": "execute_result"
    }
   ],
   "source": [
    "def mul(x=[]):\n",
    "    x.append(1)\n",
    "    return x\n",
    "mul()"
   ]
  },
  {
   "cell_type": "code",
   "execution_count": 156,
   "metadata": {
    "scrolled": true
   },
   "outputs": [
    {
     "data": {
      "text/plain": [
       "[1, 1]"
      ]
     },
     "execution_count": 156,
     "metadata": {},
     "output_type": "execute_result"
    }
   ],
   "source": [
    "# so do not use mutable default value as an argument\n",
    "mul()"
   ]
  },
  {
   "cell_type": "markdown",
   "metadata": {},
   "source": [
    "### Variable Args"
   ]
  },
  {
   "cell_type": "code",
   "execution_count": 163,
   "metadata": {
    "scrolled": true
   },
   "outputs": [
    {
     "data": {
      "text/plain": [
       "6"
      ]
     },
     "execution_count": 163,
     "metadata": {},
     "output_type": "execute_result"
    }
   ],
   "source": [
    "def sum(*numbers):\n",
    "    sum = 0\n",
    "    for n in numbers:\n",
    "        sum += n\n",
    "    return sum\n",
    "sum(1,2,3)\n",
    "sum(*[1,2,3])"
   ]
  },
  {
   "cell_type": "code",
   "execution_count": 178,
   "metadata": {
    "scrolled": true
   },
   "outputs": [
    {
     "name": "stdout",
     "output_type": "stream",
     "text": [
      "Fraiser 45\n"
     ]
    }
   ],
   "source": [
    "def dic(**dics):\n",
    "    print(dics['name'], dics['age'])\n",
    "dic(name='Fraiser', age=45, other=1)"
   ]
  },
  {
   "cell_type": "code",
   "execution_count": 181,
   "metadata": {
    "scrolled": true
   },
   "outputs": [
    {
     "name": "stdout",
     "output_type": "stream",
     "text": [
      "Fraiser 45\n"
     ]
    }
   ],
   "source": [
    "def dic(*, name, age):\n",
    "    print(name, age)\n",
    "# dic(name='Fraiser', age=45, other=1) this is error\n",
    "dic(name='Fraiser', age=45)"
   ]
  },
  {
   "cell_type": "code",
   "execution_count": 189,
   "metadata": {
    "scrolled": true
   },
   "outputs": [
    {
     "name": "stdout",
     "output_type": "stream",
     "text": [
      "1 2 0 () {}\n",
      "1 2 3 () {}\n",
      "1 2 3 ('a', 'b') {}\n",
      "1 2 3 ('a', 'b') {'x': 99}\n"
     ]
    },
    {
     "data": {
      "text/plain": [
       "(None, None, None, None)"
      ]
     },
     "execution_count": 189,
     "metadata": {},
     "output_type": "execute_result"
    }
   ],
   "source": [
    "def f2(a, b, c=0, *, d, **kw):\n",
    "    print(a, b, c, d, kw)\n",
    "def f1(a, b, c=0, *args, **kw):\n",
    "    print(a, b, c, args, kw)\n",
    "f1(1, 2), f1(1,2,3), f1(1,2,3,'a','b'), f1(1,2,3,'a','b',x=99)"
   ]
  },
  {
   "cell_type": "code",
   "execution_count": 191,
   "metadata": {
    "scrolled": true
   },
   "outputs": [
    {
     "name": "stdout",
     "output_type": "stream",
     "text": [
      "1 2 0 99 {'ext': None}\n",
      "1 2 3 1 {'x': 3}\n"
     ]
    },
    {
     "data": {
      "text/plain": [
       "(None, None)"
      ]
     },
     "execution_count": 191,
     "metadata": {},
     "output_type": "execute_result"
    }
   ],
   "source": [
    "def f2(a, b, c=0, *, d, **kw):\n",
    "    print(a, b, c, d, kw)\n",
    "def f1(a, b, c=0, *args, **kw):\n",
    "    print(a, b, c, args, kw)\n",
    "args = (1,2,3)\n",
    "kw = {'d':1,'x':3}\n",
    "f2(1,2,d=99,ext=None), f2(*args, **kw)"
   ]
  },
  {
   "cell_type": "markdown",
   "metadata": {},
   "source": [
    "### Declare type"
   ]
  },
  {
   "cell_type": "code",
   "execution_count": 28,
   "metadata": {},
   "outputs": [
    {
     "data": {
      "text/plain": [
       "'s2'"
      ]
     },
     "execution_count": 28,
     "metadata": {},
     "output_type": "execute_result"
    }
   ],
   "source": [
    "def add(x:int, y:int) -> int:\n",
    "    return x + y\n",
    "add('s','2')"
   ]
  },
  {
   "cell_type": "markdown",
   "metadata": {},
   "source": [
    "## High-Order Function"
   ]
  },
  {
   "cell_type": "code",
   "execution_count": 276,
   "metadata": {},
   "outputs": [
    {
     "data": {
      "text/plain": [
       "[0, 1, 4, 9, 16, 25, 36, 49, 64, 81]"
      ]
     },
     "execution_count": 276,
     "metadata": {},
     "output_type": "execute_result"
    }
   ],
   "source": [
    "# map\n",
    "def f(x):\n",
    "    return x*x\n",
    "\n",
    "r = map(f, list(range(10)))\n",
    "list(r)"
   ]
  },
  {
   "cell_type": "code",
   "execution_count": 3,
   "metadata": {
    "scrolled": true
   },
   "outputs": [
    {
     "data": {
      "text/plain": [
       "(6, 123)"
      ]
     },
     "execution_count": 3,
     "metadata": {},
     "output_type": "execute_result"
    }
   ],
   "source": [
    "# reduce\n",
    "from functools import reduce\n",
    "def add(a, b):\n",
    "    return a + b\n",
    "\n",
    "def fn(x, y):\n",
    "    return x*10 + y\n",
    "\n",
    "reduce(add, [1,2,3]), reduce(fn, [1,2,3])"
   ]
  },
  {
   "cell_type": "code",
   "execution_count": 4,
   "metadata": {
    "scrolled": true
   },
   "outputs": [
    {
     "data": {
      "text/plain": [
       "[1, 3]"
      ]
     },
     "execution_count": 4,
     "metadata": {},
     "output_type": "execute_result"
    }
   ],
   "source": [
    "# filter\n",
    "def is_odd(n):\n",
    "    return n%2==1\n",
    "\n",
    "list(filter(is_odd, [1,2,3]))"
   ]
  },
  {
   "cell_type": "code",
   "execution_count": 7,
   "metadata": {
    "scrolled": true
   },
   "outputs": [
    {
     "data": {
      "text/plain": [
       "([-2, 1, 3], [1, -2, 3], [3, 1, -2])"
      ]
     },
     "execution_count": 7,
     "metadata": {},
     "output_type": "execute_result"
    }
   ],
   "source": [
    "# sorted\n",
    "l = [1,3,-2]\n",
    "sorted(l), sorted(l, key=abs), sorted(l, reverse=True)"
   ]
  },
  {
   "cell_type": "code",
   "execution_count": null,
   "metadata": {},
   "outputs": [],
   "source": [
    "# todo return after "
   ]
  },
  {
   "cell_type": "markdown",
   "metadata": {},
   "source": [
    "# Toolbox"
   ]
  },
  {
   "cell_type": "markdown",
   "metadata": {},
   "source": [
    "## Time"
   ]
  },
  {
   "cell_type": "code",
   "execution_count": 5,
   "metadata": {},
   "outputs": [],
   "source": [
    "import time\n",
    "from timeit import default_timer as timer"
   ]
  },
  {
   "cell_type": "markdown",
   "metadata": {},
   "source": [
    "### Measure time elapsed\n",
    "[Measure time elapsed in Python? - stackoverflow](https://stackoverflow.com/questions/7370801/measure-time-elapsed-in-python)"
   ]
  },
  {
   "cell_type": "code",
   "execution_count": 9,
   "metadata": {},
   "outputs": [
    {
     "data": {
      "text/plain": [
       "1.0015285015106201"
      ]
     },
     "execution_count": 9,
     "metadata": {},
     "output_type": "execute_result"
    }
   ],
   "source": [
    "start = time.time()\n",
    "time.sleep(1)\n",
    "end = time.time()\n",
    "end - start"
   ]
  },
  {
   "cell_type": "code",
   "execution_count": 6,
   "metadata": {},
   "outputs": [
    {
     "data": {
      "text/plain": [
       "1.0015021907165647"
      ]
     },
     "execution_count": 6,
     "metadata": {},
     "output_type": "execute_result"
    }
   ],
   "source": [
    "start = timer()\n",
    "time.sleep(1)\n",
    "end = timer()\n",
    "end - start # Time in seconds, e.g. 5.38091952400282"
   ]
  },
  {
   "cell_type": "markdown",
   "metadata": {},
   "source": [
    "# Collection"
   ]
  },
  {
   "cell_type": "markdown",
   "metadata": {},
   "source": [
    "## List and Tuple"
   ]
  },
  {
   "cell_type": "markdown",
   "metadata": {},
   "source": [
    "### Generate & Select & Update"
   ]
  },
  {
   "cell_type": "code",
   "execution_count": 245,
   "metadata": {},
   "outputs": [
    {
     "data": {
      "text/plain": [
       "([1, 2, 3],\n",
       " [0, 1, 2, 3, 4, 5, 6, 7, 8, 9, 10, 11, 12, 13, 14, 15, 16, 17, 18, 19],\n",
       " [0, 1, 4, 9, 16, 25, 36, 49, 64, 81],\n",
       " [0, 4, 16, 36, 64],\n",
       " ['Ax', 'Ay', 'Az', 'Bx', 'By', 'Bz', 'Cx', 'Cy', 'Cz'],\n",
       " 3)"
      ]
     },
     "execution_count": 245,
     "metadata": {},
     "output_type": "execute_result"
    }
   ],
   "source": [
    "l1 = [1,2,3]\n",
    "l2 = list(range(20))\n",
    "# list generator\n",
    "l3 = [x*x for x in range(10)]\n",
    "l4 = [x*x for x in range(10) if x %2 == 0]\n",
    "l5 = [m + n for m in 'ABC' for n in 'xyz']\n",
    "l1, l2, l3, l4, l5, len(l1)"
   ]
  },
  {
   "cell_type": "code",
   "execution_count": 265,
   "metadata": {},
   "outputs": [
    {
     "name": "stdout",
     "output_type": "stream",
     "text": [
      "0,1,4,\n",
      "9,16,25,36,49,64,81,"
     ]
    },
    {
     "data": {
      "text/plain": [
       "generator"
      ]
     },
     "execution_count": 265,
     "metadata": {},
     "output_type": "execute_result"
    }
   ],
   "source": [
    "# generator not create list, just deduce\n",
    "g = (x*x for x in range(10))\n",
    "for i in range(3):\n",
    "    print(next(g), end=',')\n",
    "print()\n",
    "for i in g:\n",
    "    print(i, end=',')\n",
    "type(g)"
   ]
  },
  {
   "cell_type": "code",
   "execution_count": 272,
   "metadata": {},
   "outputs": [
    {
     "name": "stdout",
     "output_type": "stream",
     "text": [
      "0,1,2,3,4,5,6,7,8,9,\n",
      "0,1,2,3,4,5,6,7,8,9,"
     ]
    },
    {
     "data": {
      "text/plain": [
       "(generator, function)"
      ]
     },
     "execution_count": 272,
     "metadata": {},
     "output_type": "execute_result"
    }
   ],
   "source": [
    "# generator not create list, just deduce\n",
    "def plus():\n",
    "    for i in range(10):\n",
    "        yield i\n",
    "\n",
    "for i in plus():\n",
    "    print(i, end=',')\n",
    "print()\n",
    "g = plus()\n",
    "for i in g:\n",
    "    print(i, end=',')\n",
    "type(plus()), type(plus)"
   ]
  },
  {
   "cell_type": "code",
   "execution_count": 36,
   "metadata": {},
   "outputs": [
    {
     "name": "stdout",
     "output_type": "stream",
     "text": [
      "[1, 2, 3, 4, 5, 6, 7, 8, 9]\n",
      "9 3\n"
     ]
    },
    {
     "data": {
      "text/plain": [
       "[1, 2, 4, 6, 7, 8]"
      ]
     },
     "execution_count": 36,
     "metadata": {},
     "output_type": "execute_result"
    }
   ],
   "source": [
    "# delete & update\n",
    "l = list(range(1, 10))\n",
    "# delete by position\n",
    "print(l)\n",
    "print(l.pop(), l.pop(2))\n",
    "# delete by value\n",
    "l.remove(5)\n",
    "l"
   ]
  },
  {
   "cell_type": "code",
   "execution_count": 241,
   "metadata": {},
   "outputs": [
    {
     "name": "stdout",
     "output_type": "stream",
     "text": [
      "[0, 1, 2, 3, 4, 5, 6, 7, 8, 9]\n",
      "after 9 0 [1, 2, 3, 4, 5, 6, 7, 8]\n"
     ]
    },
    {
     "data": {
      "text/plain": [
       "[0, 2, 3, 4, 5, 6, 7, 8]"
      ]
     },
     "execution_count": 241,
     "metadata": {},
     "output_type": "execute_result"
    }
   ],
   "source": [
    "# delete & update\n",
    "l = list(range(10))\n",
    "l.pop()\n",
    "l.pop(0)\n",
    "l\n",
    "print('after', l.pop(), l.pop(0),l)\n",
    "l[0] = 0\n",
    "l"
   ]
  },
  {
   "cell_type": "code",
   "execution_count": 104,
   "metadata": {},
   "outputs": [
    {
     "data": {
      "text/plain": [
       "((2, 1, 3), 1, (1,))"
      ]
     },
     "execution_count": 104,
     "metadata": {},
     "output_type": "execute_result"
    }
   ],
   "source": [
    "# tuple is final\n",
    "c = (2,1,3)\n",
    "# , is needed\n",
    "num_one = (1)\n",
    "single_c = (1,)\n",
    "c, num_one, single_c"
   ]
  },
  {
   "cell_type": "code",
   "execution_count": 224,
   "metadata": {},
   "outputs": [
    {
     "data": {
      "text/plain": [
       "[4,\n",
       " 0,\n",
       " 1,\n",
       " 2,\n",
       " 3,\n",
       " 4,\n",
       " 5,\n",
       " 6,\n",
       " 7,\n",
       " 8,\n",
       " 9,\n",
       " 10,\n",
       " 11,\n",
       " 12,\n",
       " 13,\n",
       " 14,\n",
       " 15,\n",
       " 16,\n",
       " 17,\n",
       " 18,\n",
       " 19,\n",
       " 'app']"
      ]
     },
     "execution_count": 224,
     "metadata": {},
     "output_type": "execute_result"
    }
   ],
   "source": [
    "# advanced\n",
    "l.append('app')\n",
    "l.insert(0, 4)\n",
    "l"
   ]
  },
  {
   "cell_type": "markdown",
   "metadata": {},
   "source": [
    "### Cut"
   ]
  },
  {
   "cell_type": "code",
   "execution_count": 219,
   "metadata": {},
   "outputs": [
    {
     "data": {
      "text/plain": [
       "(0, 19, [0, 1], [17, 18])"
      ]
     },
     "execution_count": 219,
     "metadata": {},
     "output_type": "execute_result"
    }
   ],
   "source": [
    "# visit\n",
    "l[0], l[-1], l[0:2], l[-3:-1]"
   ]
  },
  {
   "cell_type": "code",
   "execution_count": 223,
   "metadata": {},
   "outputs": [
    {
     "data": {
      "text/plain": [
       "([0, 1, 2, 3, 4, 5, 6, 7, 8, 9, 10, 11, 12, 13, 14, 15, 16, 17, 18, 19],\n",
       " [0, 1, 2, 3, 4, 5, 6, 7, 8, 9],\n",
       " [0, 3, 6, 9],\n",
       " [0, 4, 8, 12, 16])"
      ]
     },
     "execution_count": 223,
     "metadata": {},
     "output_type": "execute_result"
    }
   ],
   "source": [
    "# basic\n",
    "l = list(range(20))\n",
    "l[:], l[:10], l[:10:3], l[::4]"
   ]
  },
  {
   "cell_type": "markdown",
   "metadata": {},
   "source": [
    "### Loop"
   ]
  },
  {
   "cell_type": "code",
   "execution_count": 226,
   "metadata": {},
   "outputs": [
    {
     "name": "stdout",
     "output_type": "stream",
     "text": [
      "0 1\n",
      "1 2\n"
     ]
    }
   ],
   "source": [
    "l = [1,2]\n",
    "for i, item in enumerate(l):\n",
    "    print(i, item)"
   ]
  },
  {
   "cell_type": "markdown",
   "metadata": {},
   "source": [
    "## Dict and Set"
   ]
  },
  {
   "cell_type": "code",
   "execution_count": 116,
   "metadata": {},
   "outputs": [
    {
     "data": {
      "text/plain": [
       "1"
      ]
     },
     "execution_count": 116,
     "metadata": {},
     "output_type": "execute_result"
    }
   ],
   "source": [
    "d = {'a':1, 'b':2, 'c':3}\n",
    "d['a']"
   ]
  },
  {
   "cell_type": "code",
   "execution_count": 120,
   "metadata": {},
   "outputs": [
    {
     "data": {
      "text/plain": [
       "{'b': 2, 'c': 3, 'd': 4}"
      ]
     },
     "execution_count": 120,
     "metadata": {},
     "output_type": "execute_result"
    }
   ],
   "source": [
    "# add & delete & update\n",
    "d['a']=0\n",
    "d.pop('a')\n",
    "d['d']=4\n",
    "d"
   ]
  },
  {
   "cell_type": "code",
   "execution_count": 125,
   "metadata": {},
   "outputs": [
    {
     "name": "stdout",
     "output_type": "stream",
     "text": [
      "None\n"
     ]
    },
    {
     "data": {
      "text/plain": [
       "(False, True, -1)"
      ]
     },
     "execution_count": 125,
     "metadata": {},
     "output_type": "execute_result"
    }
   ],
   "source": [
    "# check\n",
    "print(d.get('a'))\n",
    "'a' in d, 'b' in d, d.get('a', -1)"
   ]
  },
  {
   "cell_type": "code",
   "execution_count": 137,
   "metadata": {},
   "outputs": [
    {
     "name": "stdout",
     "output_type": "stream",
     "text": [
      "{1, 2, 3} {2, 3, 4}\n",
      "{2, 3}\n",
      "{1, 2, 3, 4}\n",
      "{1, 4}\n"
     ]
    }
   ],
   "source": [
    "# set\n",
    "s1 = set([1,1,2,3,])\n",
    "s2 = set([2,3,4])\n",
    "print(s1, s2)\n",
    "print(s1 & s2)\n",
    "print(s1 | s2)\n",
    "print(s1 ^ s2)"
   ]
  },
  {
   "cell_type": "code",
   "execution_count": 133,
   "metadata": {},
   "outputs": [
    {
     "data": {
      "text/plain": [
       "{2, 3}"
      ]
     },
     "execution_count": 133,
     "metadata": {},
     "output_type": "execute_result"
    }
   ],
   "source": [
    "# set\n",
    "s.remove(1)\n",
    "s"
   ]
  },
  {
   "cell_type": "markdown",
   "metadata": {},
   "source": [
    "loop"
   ]
  },
  {
   "cell_type": "code",
   "execution_count": 7,
   "metadata": {},
   "outputs": [
    {
     "name": "stdout",
     "output_type": "stream",
     "text": [
      "x 1\n",
      "y 2\n",
      "z 3\n"
     ]
    }
   ],
   "source": [
    "d = {'x': 1, 'y': 2, 'z': 3}\n",
    "for key, value in d.items():\n",
    "    print(key, value)\n"
   ]
  },
  {
   "cell_type": "markdown",
   "metadata": {},
   "source": [
    "count list to dic"
   ]
  },
  {
   "cell_type": "code",
   "execution_count": 5,
   "metadata": {},
   "outputs": [
    {
     "name": "stdout",
     "output_type": "stream",
     "text": [
      "Counter({3: 3, 1: 2, 2: 2})\n",
      "[(3, 3), (1, 2)]\n"
     ]
    }
   ],
   "source": [
    "from collections import Counter\n",
    "l = [1, 2, 1, 2, 3, 3, 3]\n",
    "print(Counter(l))\n",
    "print(Counter(l).most_common(2))"
   ]
  },
  {
   "cell_type": "markdown",
   "metadata": {},
   "source": [
    "remove duplicate item from list"
   ]
  },
  {
   "cell_type": "code",
   "execution_count": 7,
   "metadata": {},
   "outputs": [
    {
     "name": "stdout",
     "output_type": "stream",
     "text": [
      "[1, 2, 1, 2, 3, 3, 3]\n",
      "[1, 2, 3]\n"
     ]
    }
   ],
   "source": [
    "print(l)\n",
    "print(list(set(l)))\n"
   ]
  },
  {
   "cell_type": "code",
   "execution_count": 8,
   "metadata": {},
   "outputs": [
    {
     "data": {
      "text/plain": [
       "{'a': 0, 'b': 1}"
      ]
     },
     "execution_count": 8,
     "metadata": {},
     "output_type": "execute_result"
    }
   ],
   "source": [
    "vocab_list = ['a', 'b']\n",
    "mp = {item: i for i, item in enumerate(vocab_list)}\n",
    "mp"
   ]
  },
  {
   "cell_type": "code",
   "execution_count": 9,
   "metadata": {},
   "outputs": [
    {
     "data": {
      "text/plain": [
       "[0, 0, 0, 0, 0, 0, 0, 0, 0, 0, 0, 0, 0, 0, 0, 0, 0, 0, 0]"
      ]
     },
     "execution_count": 9,
     "metadata": {},
     "output_type": "execute_result"
    }
   ],
   "source": [
    "[0]*19"
   ]
  },
  {
   "cell_type": "code",
   "execution_count": 19,
   "metadata": {},
   "outputs": [
    {
     "ename": "SyntaxError",
     "evalue": "invalid syntax (<ipython-input-19-6a9495f19644>, line 3)",
     "output_type": "error",
     "traceback": [
      "\u001b[0;36m  File \u001b[0;32m\"<ipython-input-19-6a9495f19644>\"\u001b[0;36m, line \u001b[0;32m3\u001b[0m\n\u001b[0;31m    [print(i) for i in range(10) print(j) for j in range(i)]\u001b[0m\n\u001b[0m                                     ^\u001b[0m\n\u001b[0;31mSyntaxError\u001b[0m\u001b[0;31m:\u001b[0m invalid syntax\n"
     ]
    }
   ],
   "source": [
    "l = [str(a) + '*' + str(b+1) for a in range(10) for b in range(a)]\n",
    "l\n",
    "[print(i) for i in range(10) for j in range(i)]"
   ]
  },
  {
   "cell_type": "code",
   "execution_count": 55,
   "metadata": {},
   "outputs": [
    {
     "ename": "SyntaxError",
     "evalue": "invalid syntax (<ipython-input-55-74c8c94bbf8b>, line 4)",
     "output_type": "error",
     "traceback": [
      "\u001b[0;36m  File \u001b[0;32m\"<ipython-input-55-74c8c94bbf8b>\"\u001b[0;36m, line \u001b[0;32m4\u001b[0m\n\u001b[0;31m    print(in)\u001b[0m\n\u001b[0m           ^\u001b[0m\n\u001b[0;31mSyntaxError\u001b[0m\u001b[0;31m:\u001b[0m invalid syntax\n"
     ]
    }
   ],
   "source": [
    "[i for i in range(10) for j in range(i)]\n",
    "for i in range(10):\n",
    "    for j in range(i):\n",
    "        print(in)"
   ]
  },
  {
   "cell_type": "markdown",
   "metadata": {},
   "source": []
  },
  {
   "cell_type": "code",
   "execution_count": 57,
   "metadata": {},
   "outputs": [
    {
     "data": {
      "text/plain": [
       "[2, 3, 4, 5, 6, 7, 8]"
      ]
     },
     "execution_count": 57,
     "metadata": {},
     "output_type": "execute_result"
    }
   ],
   "source": [
    "list(range(2,9))"
   ]
  },
  {
   "cell_type": "code",
   "execution_count": null,
   "metadata": {},
   "outputs": [],
   "source": [
    "start = timer()\n",
    "d = np.loadtxt('/root/fromwin/n16.MNIST.train.csv', delimiter=',')\n",
    "end = timer()\n",
    "end - start, d # Time in seconds, e.g. 5.38091952400282"
   ]
  },
  {
   "cell_type": "code",
   "execution_count": 2,
   "metadata": {},
   "outputs": [],
   "source": [
    "import numpy as np"
   ]
  },
  {
   "cell_type": "markdown",
   "metadata": {},
   "source": [
    "# Command Line"
   ]
  },
  {
   "cell_type": "code",
   "execution_count": 1,
   "metadata": {},
   "outputs": [
    {
     "ename": "SyntaxError",
     "evalue": "can't assign to operator (<ipython-input-1-ccf3b2613e52>, line 17)",
     "output_type": "error",
     "traceback": [
      "\u001b[0;36m  File \u001b[0;32m\"<ipython-input-1-ccf3b2613e52>\"\u001b[0;36m, line \u001b[0;32m17\u001b[0m\n\u001b[0;31m    progress-every = args.progress_every\u001b[0m\n\u001b[0m                                        ^\u001b[0m\n\u001b[0;31mSyntaxError\u001b[0m\u001b[0;31m:\u001b[0m can't assign to operator\n"
     ]
    }
   ],
   "source": [
    "import argparse\n",
    "parser = argparse.ArgumentParser(description=\"progrom description\")\n",
    "parser.add_argument('key', help=\"Redis key where items are stored\")\n",
    "parser.add_argument('--host')\n",
    "arser.add_argument('--port')\n",
    "parser.add_argument('--timeout', type=int, default=5)\n",
    "parser.add_argument('--limit', type=int, default=0)\n",
    "parser.add_argument('--progress_every', type=int, default=100)\n",
    "parser.add_argument('-v', '--verbose', action='store_true')\n",
    "args = parser.parse_args()\n",
    "\n",
    "key = args.key\n",
    "host = args.host\n",
    "port = args.port\n",
    "timeout = args.timeout\n",
    "limit = args.limit\n",
    "progress-every = args.progress_every\n",
    "verbose = args.verbose"
   ]
  },
  {
   "cell_type": "markdown",
   "metadata": {},
   "source": [
    "# File"
   ]
  },
  {
   "cell_type": "code",
   "execution_count": 1,
   "metadata": {},
   "outputs": [],
   "source": [
    "import pickle"
   ]
  },
  {
   "cell_type": "code",
   "execution_count": 14,
   "metadata": {},
   "outputs": [
    {
     "data": {
      "text/plain": [
       "b'\\x80\\x03]q\\x00(K\\x01K\\x02K\\x03e.'"
      ]
     },
     "execution_count": 14,
     "metadata": {},
     "output_type": "execute_result"
    }
   ],
   "source": [
    "arr = [1, 2, 3]\n",
    "with open('data/binary_list', 'wb') as f:\n",
    "    pickle.dump(arr, f)\n",
    "    byte_arr = pickle.dumps(arr)\n",
    "byte_arr"
   ]
  },
  {
   "cell_type": "code",
   "execution_count": 11,
   "metadata": {},
   "outputs": [
    {
     "data": {
      "text/plain": [
       "([1, 2, 3], [1, 2, 3])"
      ]
     },
     "execution_count": 11,
     "metadata": {},
     "output_type": "execute_result"
    }
   ],
   "source": [
    "with open('data/binary_list', 'rb') as f:\n",
    "    arr = pickle.load(f)\n",
    "with open('data/binary_list', 'rb') as f:\n",
    "    byte_arr = f.read()\n",
    "arr, pickle.loads(byte_arr)"
   ]
  },
  {
   "cell_type": "code",
   "execution_count": null,
   "metadata": {},
   "outputs": [],
   "source": []
  }
 ],
 "metadata": {
  "kernelspec": {
   "display_name": "Python 3",
   "language": "python",
   "name": "python3"
  },
  "language_info": {
   "codemirror_mode": {
    "name": "ipython",
    "version": 3
   },
   "file_extension": ".py",
   "mimetype": "text/x-python",
   "name": "python",
   "nbconvert_exporter": "python",
   "pygments_lexer": "ipython3",
   "version": "3.5.2"
  },
  "toc": {
   "base_numbering": 1,
   "nav_menu": {},
   "number_sections": true,
   "sideBar": true,
   "skip_h1_title": false,
   "title_cell": "Table of Contents",
   "title_sidebar": "Contents",
   "toc_cell": false,
   "toc_position": {
    "height": "calc(100% - 180px)",
    "left": "10px",
    "top": "150px",
    "width": "169.391px"
   },
   "toc_section_display": true,
   "toc_window_display": true
  }
 },
 "nbformat": 4,
 "nbformat_minor": 2
}
