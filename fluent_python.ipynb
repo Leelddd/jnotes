{
  "nbformat": 4,
  "nbformat_minor": 0,
  "metadata": {
    "colab": {
      "name": "fluent-python.ipynb",
      "version": "0.3.2",
      "provenance": [],
      "toc_visible": true,
      "include_colab_link": true
    },
    "kernelspec": {
      "name": "python3",
      "display_name": "Python 3"
    }
  },
  "cells": [
    {
      "cell_type": "markdown",
      "metadata": {
        "id": "view-in-github",
        "colab_type": "text"
      },
      "source": [
        "<a href=\"https://colab.research.google.com/github/idleyui/python-notebook/blob/master/fluent_python.ipynb\" target=\"_parent\"><img src=\"https://colab.research.google.com/assets/colab-badge.svg\" alt=\"Open In Colab\"/></a>"
      ]
    },
    {
      "cell_type": "markdown",
      "metadata": {
        "id": "jOty277eTQpi",
        "colab_type": "text"
      },
      "source": [
        "## Object"
      ]
    },
    {
      "cell_type": "markdown",
      "metadata": {
        "id": "nUEGj--jTVgh",
        "colab_type": "text"
      },
      "source": [
        "### \\_\\_getstate__ and \\_\\_setstate__\n",
        "\n",
        "https://stackoverflow.com/questions/1939058/simple-example-of-use-of-setstate-and-getstate"
      ]
    },
    {
      "cell_type": "code",
      "metadata": {
        "id": "_GketjWMt1Cn",
        "colab_type": "code",
        "colab": {}
      },
      "source": [
        "class Foo(object):\n",
        "    def __init__(self, val=2):\n",
        "        self.val = val\n",
        "    def __getstate__(self):\n",
        "        print(\"I'm being pickled\")\n",
        "        self.val *= 2\n",
        "        return self.__dict__\n",
        "    def __setstate__(self, d):\n",
        "        print(\"I'm being unpickled with these values:\", d)\n",
        "        self.__dict__ = d\n",
        "        self.val *= 3\n",
        "\n",
        "import pickle\n",
        "f = Foo()\n",
        "f_string = pickle.dumps(f)\n",
        "f_new = pickle.loads(f_string)"
      ],
      "execution_count": 0,
      "outputs": []
    },
    {
      "cell_type": "markdown",
      "metadata": {
        "id": "aCzSIycWJMJK",
        "colab_type": "text"
      },
      "source": [
        "### @classmethod & @staticmethod\n",
        "\n",
        "https://stackoverflow.com/questions/12179271/meaning-of-classmethod-and-staticmethod-for-beginner\n",
        "\n",
        "- classmethod: for create another \"constructor\", cls is a type not a instance\n",
        "- staticmethod: just a function"
      ]
    },
    {
      "cell_type": "code",
      "metadata": {
        "id": "DjSyy9zAUxTR",
        "colab_type": "code",
        "colab": {}
      },
      "source": [
        "class Date(object):\n",
        "\n",
        "    def __init__(self, day=0, month=0, year=0):\n",
        "        self.day = day\n",
        "        self.month = month\n",
        "        self.year = year\n",
        "\n",
        "    @classmethod\n",
        "    def from_string(cls, date_as_string):\n",
        "        print(type(cls))\n",
        "        day, month, year = map(int, date_as_string.split('-'))\n",
        "        date1 = cls(day, month, year)\n",
        "        return date1\n",
        "\n",
        "    @staticmethod\n",
        "    def is_date_valid(date_as_string):\n",
        "        day, month, year = map(int, date_as_string.split('-'))\n",
        "        return day <= 31 and month <= 12 and year <= 3999"
      ],
      "execution_count": 0,
      "outputs": []
    },
    {
      "cell_type": "code",
      "metadata": {
        "id": "jdKg6EVXVCkX",
        "colab_type": "code",
        "outputId": "49a416e3-4dad-4f7e-e109-5989ed03c582",
        "colab": {
          "base_uri": "https://localhost:8080/",
          "height": 50
        }
      },
      "source": [
        "date2 = Date.from_string('11-09-2012')\n",
        "is_date = Date.is_date_valid('11-09-2012')\n",
        "date2.day, is_date"
      ],
      "execution_count": 0,
      "outputs": [
        {
          "output_type": "stream",
          "text": [
            "<class 'type'>\n"
          ],
          "name": "stdout"
        },
        {
          "output_type": "execute_result",
          "data": {
            "text/plain": [
              "(11, True)"
            ]
          },
          "metadata": {
            "tags": []
          },
          "execution_count": 6
        }
      ]
    },
    {
      "cell_type": "markdown",
      "metadata": {
        "id": "6z3CCE9QWM6T",
        "colab_type": "text"
      },
      "source": [
        "## \\_\\_iter\\_\\_"
      ]
    },
    {
      "cell_type": "code",
      "metadata": {
        "id": "SPoAmtEmyzKs",
        "colab_type": "code",
        "colab": {}
      },
      "source": [
        "class in_train_iter:\n",
        "    def __iter__(self):\n",
        "        while True:\n",
        "            for i in range(10):\n",
        "                yield i\n",
        "            return\n",
        "\n",
        "\n",
        "class out_train_iter:\n",
        "    def __iter__(self):\n",
        "        while True:\n",
        "            for i in ['a', 'b', 'c']:\n",
        "                yield i\n",
        "            return"
      ],
      "execution_count": 0,
      "outputs": []
    },
    {
      "cell_type": "code",
      "metadata": {
        "id": "nqfubwp6y9hO",
        "colab_type": "code",
        "outputId": "22814371-53b5-4e67-f852-318442be5bf1",
        "colab": {
          "base_uri": "https://localhost:8080/",
          "height": 234
        }
      },
      "source": [
        "from random import random\n",
        "\n",
        "in_train_iter_ = in_train_iter()\n",
        "out_train_iter_ = out_train_iter()\n",
        "in_iter = in_train_iter_.__iter__()\n",
        "out_iter = out_train_iter_.__iter__()\n",
        "in_finish = out_finish = False\n",
        "while not (in_finish and out_finish):\n",
        "    if random() < 0.5:\n",
        "        now_iter = in_iter\n",
        "        label = 0\n",
        "    else:\n",
        "        now_iter = out_iter\n",
        "        label = 1\n",
        "    try:\n",
        "        i = next(now_iter)\n",
        "    except:\n",
        "        if label == 0:\n",
        "            in_finish = True\n",
        "        else:\n",
        "            out_finish = True\n",
        "        # print('err')\n",
        "        continue\n",
        "    print(i)"
      ],
      "execution_count": 0,
      "outputs": [
        {
          "output_type": "stream",
          "text": [
            "0\n",
            "a\n",
            "1\n",
            "2\n",
            "3\n",
            "4\n",
            "5\n",
            "b\n",
            "c\n",
            "6\n",
            "7\n",
            "8\n",
            "9\n"
          ],
          "name": "stdout"
        }
      ]
    },
    {
      "cell_type": "markdown",
      "metadata": {
        "id": "O25KB3OYz51E",
        "colab_type": "text"
      },
      "source": [
        "### dict"
      ]
    },
    {
      "cell_type": "code",
      "metadata": {
        "id": "bmkHOJ6OzBZb",
        "colab_type": "code",
        "outputId": "5794c840-7dba-4f23-c08e-08b17b7e5d14",
        "colab": {
          "base_uri": "https://localhost:8080/",
          "height": 234
        }
      },
      "source": [
        "from itertools import chain\n",
        "\n",
        "all_iter = chain(in_train_iter_.__iter__(), out_train_iter_.__iter__())\n",
        "for batch in all_iter:\n",
        "    print(batch)\n"
      ],
      "execution_count": 0,
      "outputs": [
        {
          "output_type": "stream",
          "text": [
            "0\n",
            "1\n",
            "2\n",
            "3\n",
            "4\n",
            "5\n",
            "6\n",
            "7\n",
            "8\n",
            "9\n",
            "a\n",
            "b\n",
            "c\n"
          ],
          "name": "stdout"
        }
      ]
    },
    {
      "cell_type": "code",
      "metadata": {
        "id": "6gXBz-A0zDpD",
        "colab_type": "code",
        "colab": {}
      },
      "source": [
        ""
      ],
      "execution_count": 0,
      "outputs": []
    },
    {
      "cell_type": "markdown",
      "metadata": {
        "id": "swUpa9hxzM6d",
        "colab_type": "text"
      },
      "source": [
        "## collections"
      ]
    },
    {
      "cell_type": "markdown",
      "metadata": {
        "id": "8Hy_-khlzOuT",
        "colab_type": "text"
      },
      "source": [
        "### enum"
      ]
    },
    {
      "cell_type": "code",
      "metadata": {
        "id": "hXXNEpbvzS_9",
        "colab_type": "code",
        "outputId": "7ab355c6-dfaf-402e-aa0b-0e5e30e51943",
        "colab": {
          "base_uri": "https://localhost:8080/",
          "height": 117
        }
      },
      "source": [
        "import enum\n",
        "\n",
        "\n",
        "class Animal(enum.Enum):\n",
        "    dog = 1\n",
        "    cat = 2\n",
        "    lion = 3\n",
        "\n",
        "\n",
        "# %% name, value, etc\n",
        "print(Animal.dog)\n",
        "print(Animal.dog.name)\n",
        "print(Animal.dog.value)\n",
        "print(Animal(1))\n",
        "\n",
        "# %% Use for hashing\n",
        "dic = {Animal.dog: 'dog', Animal.cat: 'cat'}\n",
        "for k, v in dic.items():\n",
        "    print(k, v)"
      ],
      "execution_count": 0,
      "outputs": [
        {
          "output_type": "stream",
          "text": [
            "Animal.dog\n",
            "dog\n",
            "1\n",
            "Animal.dog\n",
            "Animal.dog dog\n",
            "Animal.cat cat\n"
          ],
          "name": "stdout"
        }
      ]
    },
    {
      "cell_type": "markdown",
      "metadata": {
        "id": "p19hX35IzXCB",
        "colab_type": "text"
      },
      "source": [
        "### namedtuple"
      ]
    },
    {
      "cell_type": "code",
      "metadata": {
        "id": "bxsu8_RgzepD",
        "colab_type": "code",
        "outputId": "4f5ca659-43b0-42e0-f693-aa093c2ceac2",
        "colab": {
          "base_uri": "https://localhost:8080/",
          "height": 184
        }
      },
      "source": [
        "#!/usr/bin/env python\n",
        "# -*- coding: utf-8 -*-\n",
        "\n",
        "\"\"\" namedtuple\n",
        "https://stackoverflow.com/questions/2970608/what-are-named-tuples-in-python\n",
        "https://docs.python.org/3.5/library/collections.html#collections.namedtuple\n",
        "https://stackoverflow.com/questions/1305532/convert-nested-python-dict-to-object\n",
        "\"\"\"\n",
        "\n",
        "from collections import namedtuple\n",
        "\n",
        "# %%\n",
        "MyTupleClass = namedtuple('MyTupleClass', ['name', 'age', 'job'])\n",
        "people = MyTupleClass(\"Tomsom\", 12, 'Cooker')\n",
        "print(people.name)\n",
        "print(people.age)\n",
        "print(people.job)\n",
        "print(people)\n",
        "print('%s %s %s' % people)\n",
        "\n",
        "# %%\n",
        "Point = namedtuple('Point', ['x', 'y'])\n",
        "\n",
        "p = Point(11, y=22)\n",
        "print(p[0] + p[1])\n",
        "\n",
        "x, y = p\n",
        "print(x, y)\n",
        "print(p.x + p.y)\n",
        "print(p)\n",
        "\n",
        "# %% Convert dict to namedtuple\n",
        "pv = {'x': 1, 'y': -1}\n",
        "print(Point(**pv))\n"
      ],
      "execution_count": 0,
      "outputs": [
        {
          "output_type": "stream",
          "text": [
            "Tomsom\n",
            "12\n",
            "Cooker\n",
            "MyTupleClass(name='Tomsom', age=12, job='Cooker')\n",
            "Tomsom 12 Cooker\n",
            "33\n",
            "11 22\n",
            "33\n",
            "Point(x=11, y=22)\n",
            "Point(x=1, y=-1)\n"
          ],
          "name": "stdout"
        }
      ]
    },
    {
      "cell_type": "markdown",
      "metadata": {
        "id": "T8oGJ8uVzfP0",
        "colab_type": "text"
      },
      "source": [
        "### dict"
      ]
    },
    {
      "cell_type": "code",
      "metadata": {
        "id": "cMnKaZfHz_Sm",
        "colab_type": "code",
        "outputId": "23166a8f-d01e-4b84-8217-5124067b4195",
        "colab": {
          "base_uri": "https://localhost:8080/",
          "height": 50
        }
      },
      "source": [
        "\"\"\"\n",
        "https://stackoverflow.com/questions/1305532/convert-nested-python-dict-to-object\n",
        "\"\"\"\n",
        "\n",
        "\n",
        "class Struct:\n",
        "    def __init__(self, **entries):\n",
        "        self.__dict__.update(entries)\n",
        "\n",
        "\n",
        "args = {'a': 1, 'b': 2}\n",
        "s = Struct(**args)\n",
        "print(s.a)\n",
        "print(s.b)"
      ],
      "execution_count": 0,
      "outputs": [
        {
          "output_type": "stream",
          "text": [
            "1\n",
            "2\n"
          ],
          "name": "stdout"
        }
      ]
    },
    {
      "cell_type": "code",
      "metadata": {
        "id": "fwYCsmjE0CJR",
        "colab_type": "code",
        "colab": {}
      },
      "source": [
        ""
      ],
      "execution_count": 0,
      "outputs": []
    }
  ]
}