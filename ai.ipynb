{
 "cells": [
  {
   "cell_type": "code",
   "execution_count": 1,
   "metadata": {},
   "outputs": [],
   "source": [
    "import tensorflow as tf"
   ]
  },
  {
   "cell_type": "markdown",
   "metadata": {},
   "source": [
    "> 张量 计算图 会话 参数 前向传播 反向传播 八股 代码\n",
    "    \n",
    "- 张量(tensor):  多维数组(列表) 表示数据 阶：张量的维数"
   ]
  },
  {
   "cell_type": "code",
   "execution_count": 2,
   "metadata": {},
   "outputs": [
    {
     "data": {
      "text/plain": [
       "'1.11.0'"
      ]
     },
     "execution_count": 2,
     "metadata": {},
     "output_type": "execute_result"
    }
   ],
   "source": [
    "tf.__version__"
   ]
  },
  {
   "cell_type": "code",
   "execution_count": 3,
   "metadata": {},
   "outputs": [
    {
     "data": {
      "text/plain": [
       "['/usr/local/lib/python3.5/dist-packages/tensorflow',\n",
       " '/usr/local/lib/python3.5/dist-packages/tensorflow/python/estimator/api']"
      ]
     },
     "execution_count": 3,
     "metadata": {},
     "output_type": "execute_result"
    }
   ],
   "source": [
    "tf.__path__"
   ]
  },
  {
   "cell_type": "markdown",
   "metadata": {},
   "source": [
    "加法"
   ]
  },
  {
   "cell_type": "code",
   "execution_count": 4,
   "metadata": {},
   "outputs": [
    {
     "name": "stdout",
     "output_type": "stream",
     "text": [
      "Tensor(\"add:0\", shape=(2,), dtype=float32)\n"
     ]
    }
   ],
   "source": [
    "a = tf.constant([1.0, 2.0])\n",
    "b = tf.constant([3.0, 4.0])\n",
    "result = a+b\n",
    "print(result)"
   ]
  },
  {
   "cell_type": "markdown",
   "metadata": {},
   "source": [
    "计算图"
   ]
  },
  {
   "cell_type": "code",
   "execution_count": 8,
   "metadata": {},
   "outputs": [
    {
     "name": "stdout",
     "output_type": "stream",
     "text": [
      "Tensor(\"MatMul_3:0\", shape=(1, 1), dtype=float32)\n"
     ]
    }
   ],
   "source": [
    "a = tf.constant([[1.0, 2.0]])\n",
    "b = tf.constant([[3.0], [4.0]])\n",
    "y = tf.matmul(a,b)\n",
    "print(y)"
   ]
  },
  {
   "cell_type": "markdown",
   "metadata": {},
   "source": [
    "会话"
   ]
  },
  {
   "cell_type": "code",
   "execution_count": 9,
   "metadata": {},
   "outputs": [
    {
     "name": "stdout",
     "output_type": "stream",
     "text": [
      "[[11.]]\n"
     ]
    }
   ],
   "source": [
    "with tf.Session() as s:\n",
    "    print(s.run(y))"
   ]
  },
  {
   "cell_type": "markdown",
   "metadata": {},
   "source": [
    "参数"
   ]
  },
  {
   "cell_type": "code",
   "execution_count": 12,
   "metadata": {},
   "outputs": [
    {
     "name": "stdout",
     "output_type": "stream",
     "text": [
      "<tf.Variable 'Variable_1:0' shape=(2, 3) dtype=float32_ref>\n"
     ]
    }
   ],
   "source": [
    "w=tf.Variable(tf.random_normal([2,3], stddev=2, mean=0, seed=1))\n",
    "print(w)"
   ]
  },
  {
   "cell_type": "code",
   "execution_count": 25,
   "metadata": {},
   "outputs": [
    {
     "name": "stdout",
     "output_type": "stream",
     "text": [
      "[[0.89100872 0.04547942]\n",
      " [0.58995479 0.74325738]\n",
      " [0.54527523 0.00603509]\n",
      " [0.46616489 0.56627563]\n",
      " [0.0602572  0.32196404]\n",
      " [0.04619735 0.30706376]\n",
      " [0.93903912 0.88762515]\n",
      " [0.54431337 0.03241746]\n",
      " [0.7645021  0.9565903 ]\n",
      " [0.68507079 0.12937562]\n",
      " [0.41134516 0.26407252]\n",
      " [0.16795192 0.24138889]\n",
      " [0.08902241 0.71555968]\n",
      " [0.69160873 0.95994049]\n",
      " [0.49257184 0.16839914]\n",
      " [0.18335744 0.15183223]\n",
      " [0.27884175 0.92810696]\n",
      " [0.17897793 0.31386106]\n",
      " [0.08601798 0.20717024]\n",
      " [0.04684421 0.72187585]\n",
      " [0.29003739 0.67867766]\n",
      " [0.61511528 0.51282158]\n",
      " [0.58501644 0.36517502]\n",
      " [0.02384557 0.10471851]\n",
      " [0.6252292  0.49268034]\n",
      " [0.7107483  0.87383086]\n",
      " [0.97148624 0.41108   ]\n",
      " [0.69948235 0.4663255 ]\n",
      " [0.78100109 0.71221726]\n",
      " [0.71327586 0.88199801]\n",
      " [0.48002231 0.39066195]\n",
      " [0.9782135  0.15356219]] [[1], [0], [1], [0], [1], [1], [0], [1], [0], [1], [1], [1], [1], [0], [1], [1], [0], [1], [1], [1], [1], [0], [1], [1], [0], [0], [0], [0], [0], [0], [1], [0]]\n"
     ]
    }
   ],
   "source": [
    "# import and generate dataset\n",
    "import tensorflow as tf\n",
    "import numpy as np\n",
    "BATCH_SIZE = 8\n",
    "seed=23423\n",
    "\n",
    "rng = np.random.RandomState(seed)\n",
    "X=rng.rand(32,2)\n",
    "Y=[[int(x0 + x1 < 1)] for (x0, x1) in X]\n",
    "print(X, Y)"
   ]
  },
  {
   "cell_type": "code",
   "execution_count": 37,
   "metadata": {},
   "outputs": [
    {
     "name": "stdout",
     "output_type": "stream",
     "text": [
      "Tensor(\"Placeholder_10:0\", shape=(?, 2), dtype=float32) Tensor(\"MatMul_11:0\", shape=(?, 1), dtype=float32)\n"
     ]
    }
   ],
   "source": [
    "# defind input, val and output\n",
    "x=tf.placeholder(tf.float32, shape=(None,2))\n",
    "y_=tf.placeholder(tf.float32, shape=(None,1))\n",
    "print(x, y)\n",
    "\n",
    "w1=tf.Variable(tf.random_normal([2,3],stddev=1, seed=1))\n",
    "w2=tf.Variable(tf.random_normal([3,1],stddev=1, seed=1))\n",
    "\n",
    "a=tf.matmul(x, w1)\n",
    "y=tf.matmul(a, w2)"
   ]
  },
  {
   "cell_type": "code",
   "execution_count": 33,
   "metadata": {},
   "outputs": [],
   "source": [
    "# bp\n",
    "loss=tf.reduce_mean(tf.square(y-y_))\n",
    "train_step=tf.train.GradientDescentOptimizer(0.001).minimize(loss)"
   ]
  },
  {
   "cell_type": "code",
   "execution_count": 36,
   "metadata": {
    "scrolled": true
   },
   "outputs": [
    {
     "name": "stdout",
     "output_type": "stream",
     "text": [
      "w1: [[-0.8113182   1.4845988   0.06532937]\n",
      " [-2.4427042   0.0992484   0.5912243 ]]\n",
      "w2: [[-0.8113182 ]\n",
      " [ 1.4845988 ]\n",
      " [ 0.06532937]]\n",
      "w1(after): [[-0.695194    0.831272    0.09577356]\n",
      " [-2.3404582  -0.13303831  0.5870709 ]]\n",
      "w2(after): [[-0.03137202]\n",
      " [ 0.83532155]\n",
      " [-0.06769659]]\n"
     ]
    }
   ],
   "source": [
    "# session\n",
    "with tf.Session() as sess:\n",
    "    init_op=tf.global_variables_initializer()\n",
    "    sess.run(init_op)\n",
    "    print(\"w1:\", sess.run(w1))\n",
    "    print(\"w2:\", sess.run(w2))\n",
    "    \n",
    "    steps = 3000\n",
    "    for i in range(steps):\n",
    "        start = (i*BATCH_SIZE)%32\n",
    "        end = start + BATCH_SIZE\n",
    "        sess.run(train_step, feed_dict={x:X[start:end], y_:Y[start:end]})\n",
    "#         if i%500==0:\n",
    "#             total_loss=sess.run(loss, feed_dict_dict={x:X,y_:Y})\n",
    "#             print(\"After %d traing steps, loss is %g\" %(i,total_loss))\n",
    "    print(\"w1(after):\", sess.run(w1))\n",
    "    print(\"w2(after):\", sess.run(w2))"
   ]
  },
  {
   "cell_type": "code",
   "execution_count": 23,
   "metadata": {},
   "outputs": [
    {
     "name": "stdout",
     "output_type": "stream",
     "text": [
      "name: \"GradientDescent\"\n",
      "op: \"NoOp\"\n",
      "input: \"^GradientDescent/update_Variable_6/ApplyGradientDescent\"\n",
      "input: \"^GradientDescent/update_Variable_7/ApplyGradientDescent\"\n",
      "\n"
     ]
    }
   ],
   "source": [
    "print(train_step)"
   ]
  },
  {
   "cell_type": "code",
   "execution_count": 30,
   "metadata": {},
   "outputs": [
    {
     "data": {
      "text/plain": [
       "array([[0.89100872, 0.04547942],\n",
       "       [0.58995479, 0.74325738],\n",
       "       [0.54527523, 0.00603509],\n",
       "       [0.46616489, 0.56627563],\n",
       "       [0.0602572 , 0.32196404],\n",
       "       [0.04619735, 0.30706376],\n",
       "       [0.93903912, 0.88762515],\n",
       "       [0.54431337, 0.03241746]])"
      ]
     },
     "execution_count": 30,
     "metadata": {},
     "output_type": "execute_result"
    }
   ],
   "source": [
    "X[start:end]"
   ]
  },
  {
   "cell_type": "code",
   "execution_count": 31,
   "metadata": {},
   "outputs": [
    {
     "data": {
      "text/plain": [
       "[[1], [0], [1], [0], [1], [1], [0], [1]]"
      ]
     },
     "execution_count": 31,
     "metadata": {},
     "output_type": "execute_result"
    }
   ],
   "source": [
    "Y[start:end]"
   ]
  },
  {
   "cell_type": "code",
   "execution_count": 43,
   "metadata": {},
   "outputs": [
    {
     "data": {
      "text/plain": [
       "0.39906976443827624"
      ]
     },
     "execution_count": 43,
     "metadata": {},
     "output_type": "execute_result"
    }
   ],
   "source": [
    "np.random.uniform(0,1)"
   ]
  },
  {
   "cell_type": "code",
   "execution_count": 71,
   "metadata": {},
   "outputs": [
    {
     "name": "stdout",
     "output_type": "stream",
     "text": [
      "0.21537906539337992 2 9\n",
      "0.10556796328569229 1 8\n",
      "0.1518224401624707 2 7\n",
      "0.4924483389712375 3 6\n",
      "0.23508419049917206 2 5\n",
      "0.05109264723052187 1 4\n",
      "0.1016554701139758 1 3\n",
      "0.3695202964800658 1 2\n",
      "0.8463651144512215 1 1\n"
     ]
    },
    {
     "data": {
      "text/plain": [
       "[1, 6, 7, 5, 9, 8, 4, 10, 2, 3]"
      ]
     },
     "execution_count": 71,
     "metadata": {},
     "output_type": "execute_result"
    }
   ],
   "source": [
    "n=10\n",
    "cards = [i+1 for i in range(n)]\n",
    "cards\n",
    "for k in range(n-1,0,-1):\n",
    "    u=np.random.uniform(0,1)\n",
    "    i=int(k*u)+1\n",
    "    print(u, i, k)\n",
    "    cards[i],cards[k]=cards[k], cards[i]\n",
    "cards"
   ]
  },
  {
   "cell_type": "code",
   "execution_count": 70,
   "metadata": {},
   "outputs": [
    {
     "data": {
      "text/plain": [
       "2"
      ]
     },
     "execution_count": 70,
     "metadata": {},
     "output_type": "execute_result"
    }
   ],
   "source": [
    "int(2.6)"
   ]
  },
  {
   "cell_type": "code",
   "execution_count": null,
   "metadata": {},
   "outputs": [],
   "source": []
  }
 ],
 "metadata": {
  "kernelspec": {
   "display_name": "Python 3",
   "language": "python",
   "name": "python3"
  },
  "language_info": {
   "codemirror_mode": {
    "name": "ipython",
    "version": 3
   },
   "file_extension": ".py",
   "mimetype": "text/x-python",
   "name": "python",
   "nbconvert_exporter": "python",
   "pygments_lexer": "ipython3",
   "version": "3.5.2"
  },
  "toc": {
   "base_numbering": 1,
   "nav_menu": {},
   "number_sections": true,
   "sideBar": true,
   "skip_h1_title": false,
   "title_cell": "Table of Contents",
   "title_sidebar": "Contents",
   "toc_cell": false,
   "toc_position": {},
   "toc_section_display": true,
   "toc_window_display": false
  }
 },
 "nbformat": 4,
 "nbformat_minor": 2
}
