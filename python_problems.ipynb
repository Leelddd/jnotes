{
  "nbformat": 4,
  "nbformat_minor": 0,
  "metadata": {
    "colab": {
      "name": "python-problems",
      "version": "0.3.2",
      "provenance": [],
      "include_colab_link": true
    },
    "kernelspec": {
      "name": "python3",
      "display_name": "Python 3"
    }
  },
  "cells": [
    {
      "cell_type": "markdown",
      "metadata": {
        "id": "view-in-github",
        "colab_type": "text"
      },
      "source": [
        "<a href=\"https://colab.research.google.com/github/idleyui/python-notebook/blob/master/python_problems.ipynb\" target=\"_parent\"><img src=\"https://colab.research.google.com/assets/colab-badge.svg\" alt=\"Open In Colab\"/></a>"
      ]
    },
    {
      "cell_type": "markdown",
      "metadata": {
        "id": "jf_VU0SSXP-X",
        "colab_type": "text"
      },
      "source": [
        "1. from format log string to namedtuple with type\n",
        "\n",
        "    https://stackoverflow.com/questions/42536406/python-extracting-variables-from-string-templates"
      ]
    },
    {
      "cell_type": "code",
      "metadata": {
        "id": "Es9MOovxXbWY",
        "colab_type": "code",
        "outputId": "98701833-2045-4a6d-b9f4-2859872b468d",
        "colab": {
          "base_uri": "https://localhost:8080/",
          "height": 54
        }
      },
      "source": [
        "import re\n",
        "from collections import namedtuple\n",
        "\n",
        "ValidLine = namedtuple('ValidLine',\n",
        "                       ['time', 'epoch', 'iter', 'trial', 'patience', 'dataset',\n",
        "                        'loss', 'ppl', 'bleu', 'fake_loss', 'fake_ppl'])\n",
        "types = [str, int, int, int, int, str,\n",
        "         float, float, float, float, float]\n",
        "line = '2019-07-22 22:22:22,234 INFO epoch 12, iter 1000, trial 2, patience 1, valid dataset novel, real loss 109.3333, real ppl 234.232, bleu 0.234234, valid loss 234.23423, valid ppl 234.23421'\n",
        "m = re.match(\n",
        "    r'(.*) INFO epoch (.*), iter (.*), trial (.*), patience (.*), valid dataset (.*), '\n",
        "    r'real loss (.*), real ppl (.*), bleu (.*), valid loss (.*), valid ppl (.*)',\n",
        "    line)\n",
        "value_list = [type_method(val) for val, type_method in zip(m.groups(), types)]\n",
        "L = ValidLine(*value_list)\n",
        "print(L)"
      ],
      "execution_count": 0,
      "outputs": [
        {
          "output_type": "stream",
          "text": [
            "ValidLine(time='2019-07-22 22:22:22,234', epoch=12, iter=1000, trial=2, patience=1, dataset='novel', loss=109.3333, ppl=234.232, bleu=0.234234, fake_loss=234.23423, fake_ppl=234.23421)\n"
          ],
          "name": "stdout"
        }
      ]
    },
    {
      "cell_type": "code",
      "metadata": {
        "id": "ns0w3jKBXdQK",
        "colab_type": "code",
        "colab": {}
      },
      "source": [
        ""
      ],
      "execution_count": 0,
      "outputs": []
    }
  ]
}