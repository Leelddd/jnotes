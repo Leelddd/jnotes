{
  "nbformat": 4,
  "nbformat_minor": 0,
  "metadata": {
    "colab": {
      "name": "benchmark.ipynb",
      "version": "0.3.2",
      "provenance": [],
      "include_colab_link": true
    },
    "kernelspec": {
      "name": "python3",
      "display_name": "Python 3"
    }
  },
  "cells": [
    {
      "cell_type": "markdown",
      "metadata": {
        "id": "view-in-github",
        "colab_type": "text"
      },
      "source": [
        "<a href=\"https://colab.research.google.com/github/idleyui/python-notebook/blob/master/benchmark.ipynb\" target=\"_parent\"><img src=\"https://colab.research.google.com/assets/colab-badge.svg\" alt=\"Open In Colab\"/></a>"
      ]
    },
    {
      "cell_type": "code",
      "metadata": {
        "id": "0DDzevXKYNcb",
        "colab_type": "code",
        "colab": {
          "base_uri": "https://localhost:8080/",
          "height": 69
        },
        "outputId": "95711c44-1167-4c35-82bb-e19ad545b9c6"
      },
      "source": [
        "from timeit import default_timer as timer\n",
        "import random\n",
        "\n",
        "t1 = timer()\n",
        "with open('test.txt', 'w') as f:\n",
        "    for i in range(1, 1000000):\n",
        "        f.write(str(random.random()))\n",
        "t2 = timer()\n",
        "\n",
        "list = []\n",
        "with open('test1.txt', 'w') as f:\n",
        "    for i in range(1, 1000000):\n",
        "        list.append(str(random.random()))\n",
        "    f.write('\\n'.join(list))\n",
        "t3 = timer()\n",
        "\n",
        "with open('test1.txt', 'w') as f:\n",
        "    list = [str(random.random()) for i in range(1, 1000000)]\n",
        "    f.write('\\n'.join(list))\n",
        "t4 = timer()\n",
        "\n",
        "print(t2 - t1)\n",
        "print(t3 - t2)\n",
        "print(t4 - t3)\n"
      ],
      "execution_count": 1,
      "outputs": [
        {
          "output_type": "stream",
          "text": [
            "1.2353038349999963\n",
            "1.1959731310000024\n",
            "1.0984876549999996\n"
          ],
          "name": "stdout"
        }
      ]
    },
    {
      "cell_type": "code",
      "metadata": {
        "id": "TJ0cO30cYRa8",
        "colab_type": "code",
        "colab": {}
      },
      "source": [
        ""
      ],
      "execution_count": 0,
      "outputs": []
    }
  ]
}