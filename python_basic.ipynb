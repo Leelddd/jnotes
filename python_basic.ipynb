{
  "nbformat": 4,
  "nbformat_minor": 0,
  "metadata": {
    "kernelspec": {
      "display_name": "Python 3",
      "language": "python",
      "name": "python3"
    },
    "language_info": {
      "codemirror_mode": {
        "name": "ipython",
        "version": 3
      },
      "file_extension": ".py",
      "mimetype": "text/x-python",
      "name": "python",
      "nbconvert_exporter": "python",
      "pygments_lexer": "ipython3",
      "version": "3.5.2"
    },
    "toc": {
      "base_numbering": 1,
      "nav_menu": {},
      "number_sections": true,
      "sideBar": true,
      "skip_h1_title": false,
      "title_cell": "Table of Contents",
      "title_sidebar": "Contents",
      "toc_cell": false,
      "toc_position": {
        "height": "calc(100% - 180px)",
        "left": "10px",
        "top": "150px",
        "width": "198.391px"
      },
      "toc_section_display": true,
      "toc_window_display": true
    },
    "colab": {
      "name": "python_basic.ipynb",
      "version": "0.3.2",
      "provenance": [],
      "toc_visible": true,
      "include_colab_link": true
    }
  },
  "cells": [
    {
      "cell_type": "markdown",
      "metadata": {
        "id": "view-in-github",
        "colab_type": "text"
      },
      "source": [
        "<a href=\"https://colab.research.google.com/github/idleyui/python-notebook/blob/master/python_basic.ipynb\" target=\"_parent\"><img src=\"https://colab.research.google.com/assets/colab-badge.svg\" alt=\"Open In Colab\"/></a>"
      ]
    },
    {
      "cell_type": "markdown",
      "metadata": {
        "id": "0akDcmjuXykg",
        "colab_type": "text"
      },
      "source": [
        "# Fundamental"
      ]
    },
    {
      "cell_type": "markdown",
      "metadata": {
        "id": "L0GcWI6qXykl",
        "colab_type": "text"
      },
      "source": [
        "## Type"
      ]
    },
    {
      "cell_type": "code",
      "metadata": {
        "id": "tPg-PuCXXykn",
        "colab_type": "code",
        "outputId": "6ffc0538-656d-4b07-c1e8-f621deb35d69",
        "colab": {}
      },
      "source": [
        "a = 1\n",
        "isinstance(a, int)"
      ],
      "execution_count": 0,
      "outputs": [
        {
          "output_type": "execute_result",
          "data": {
            "text/plain": [
              "True"
            ]
          },
          "metadata": {
            "tags": []
          },
          "execution_count": 246
        }
      ]
    },
    {
      "cell_type": "markdown",
      "metadata": {
        "id": "woXUPCqGXykt",
        "colab_type": "text"
      },
      "source": [
        "### Basic"
      ]
    },
    {
      "cell_type": "code",
      "metadata": {
        "id": "BiwCppuxXyku",
        "colab_type": "code",
        "outputId": "c87e2822-898e-4e33-b0bd-9ca004cb49db",
        "colab": {}
      },
      "source": [
        "# basic types: integer, float, string, boolean, none\n",
        "i = 2\n",
        "f = .2\n",
        "s = 'str'\n",
        "b = True\n",
        "n = None\n",
        "print(i,f,s,b,n)"
      ],
      "execution_count": 0,
      "outputs": [
        {
          "output_type": "stream",
          "text": [
            "2 0.2 str True None\n"
          ],
          "name": "stdout"
        }
      ]
    },
    {
      "cell_type": "markdown",
      "metadata": {
        "id": "UHpy4GX3Xyky",
        "colab_type": "text"
      },
      "source": [
        "### Boolean"
      ]
    },
    {
      "cell_type": "code",
      "metadata": {
        "id": "i6FJFWqnXykz",
        "colab_type": "code",
        "outputId": "dc23af1d-84f9-49d5-b730-8fb6e7102fb6",
        "colab": {}
      },
      "source": [
        "# boolean: use and or not instead of & | ~\n",
        "t = True\n",
        "f = False\n",
        "print(t and f, t or f, not t)"
      ],
      "execution_count": 0,
      "outputs": [
        {
          "output_type": "stream",
          "text": [
            "False True False\n"
          ],
          "name": "stdout"
        }
      ]
    },
    {
      "cell_type": "markdown",
      "metadata": {
        "id": "1eBJ5Dd-Xyk2",
        "colab_type": "text"
      },
      "source": [
        "### String"
      ]
    },
    {
      "cell_type": "markdown",
      "metadata": {
        "id": "43pYFBskXyk3",
        "colab_type": "text"
      },
      "source": [
        "#### encoding and decoding"
      ]
    },
    {
      "cell_type": "code",
      "metadata": {
        "id": "iM1sQkygXyk5",
        "colab_type": "code",
        "outputId": "f2e59764-429f-421c-a376-e182c7826ac0",
        "colab": {}
      },
      "source": [
        "# trans char and its code integer\n",
        "print(ord('a'), chr(97))\n",
        "# str to bytes - ascii only, no Chinese etc\n",
        "s = b'asciionly'\n",
        "print(s)\n",
        "# encoding\n",
        "print('abc'.encode('ascii'), '中文'.encode('utf-8'))\n",
        "# decoding\n",
        "print(b'abc'.decode('ascii'),\n",
        "      b'\\xe4\\xb8\\xad\\xe6\\x96\\x87'.decode('utf-8'))\n",
        "# ignore some invalid bytes\n",
        "print(b'\\xe4\\xb8\\xad\\xe6'.decode('utf-8', errors='ignore'))\n",
        "'\\u003b'.encode('unicode-escape').decode('utf-8')"
      ],
      "execution_count": 0,
      "outputs": [
        {
          "output_type": "stream",
          "text": [
            "97 a\n",
            "b'asciionly'\n",
            "b'abc' b'\\xe4\\xb8\\xad\\xe6\\x96\\x87'\n",
            "abc 中文\n",
            "中\n"
          ],
          "name": "stdout"
        },
        {
          "output_type": "execute_result",
          "data": {
            "text/plain": [
              "';'"
            ]
          },
          "metadata": {
            "tags": []
          },
          "execution_count": 54
        }
      ]
    },
    {
      "cell_type": "markdown",
      "metadata": {
        "id": "iJ92iRkdXyk8",
        "colab_type": "text"
      },
      "source": [
        "#### Format"
      ]
    },
    {
      "cell_type": "markdown",
      "metadata": {
        "id": "qCWucLniYBhL",
        "colab_type": "text"
      },
      "source": [
        "f-string format"
      ]
    },
    {
      "cell_type": "code",
      "metadata": {
        "id": "rA0cBHYRYDRZ",
        "colab_type": "code",
        "colab": {
          "base_uri": "https://localhost:8080/",
          "height": 52
        },
        "outputId": "7434bc8b-94ab-4a94-f1e5-c47188200d3f"
      },
      "source": [
        "name = \"George\"\n",
        "print(f\"My cool string is called {name}.\")\n",
        "\n",
        "x = 3.1415926\n",
        "print(f'{x:.2f}')\n"
      ],
      "execution_count": 1,
      "outputs": [
        {
          "output_type": "stream",
          "text": [
            "My cool string is called George.\n",
            "3.14\n"
          ],
          "name": "stdout"
        }
      ]
    },
    {
      "cell_type": "code",
      "metadata": {
        "id": "JRK0nhWiXyk9",
        "colab_type": "code",
        "outputId": "08ec1638-a1f3-47c0-f5bb-9be483299442",
        "colab": {}
      },
      "source": [
        "# complement int with space or 0\n",
        "s = '%2d-%03d' % (3, 1)\n",
        "# decimal digits\n",
        "sf = '%.2f' % 3.1415\n",
        "s1 = 'name: %s, age: %d, salary: %f, encoding: %x'%('Michael', 40, 1e4, 15)\n",
        "s, sf, s1"
      ],
      "execution_count": 0,
      "outputs": [
        {
          "output_type": "execute_result",
          "data": {
            "text/plain": [
              "(' 3-001', '3.14', 'name: Michael, age: 40, salary: 10000.000000, encoding: f')"
            ]
          },
          "metadata": {
            "tags": []
          },
          "execution_count": 37
        }
      ]
    },
    {
      "cell_type": "code",
      "metadata": {
        "id": "y3qoCpVBXylA",
        "colab_type": "code",
        "outputId": "abb0b0a5-393f-4033-9aaa-5a1726cc36e7",
        "colab": {}
      },
      "source": [
        "# use format() instead\n",
        "s = 'name: {0}, age: {1}, salary: {2}, encoding: {3}'.format('Michael', 40, 1e4, 15)\n",
        "s"
      ],
      "execution_count": 0,
      "outputs": [
        {
          "output_type": "execute_result",
          "data": {
            "text/plain": [
              "'name: Michael, age: 40, salary: 10000.0, encoding: 15'"
            ]
          },
          "metadata": {
            "tags": []
          },
          "execution_count": 110
        }
      ]
    },
    {
      "cell_type": "code",
      "metadata": {
        "id": "R8-37iEwXylE",
        "colab_type": "code",
        "outputId": "d913eadf-8c43-45d5-b848-2b141be64ad4",
        "colab": {}
      },
      "source": [
        "# use r to ban escape\n",
        "s1 = '\\ta'\n",
        "s2 = r'\\ta'\n",
        "print(s1)\n",
        "print(s2)"
      ],
      "execution_count": 0,
      "outputs": [
        {
          "output_type": "stream",
          "text": [
            "\ta\n",
            "\\ta\n"
          ],
          "name": "stdout"
        }
      ]
    },
    {
      "cell_type": "markdown",
      "metadata": {
        "id": "l8lr6TQSXylI",
        "colab_type": "text"
      },
      "source": [
        "## Print"
      ]
    },
    {
      "cell_type": "code",
      "metadata": {
        "id": "W_AiL_ZkXylJ",
        "colab_type": "code",
        "outputId": "a15d3b8d-03ed-4ca8-ac63-77284324a9e3",
        "colab": {}
      },
      "source": [
        "# print multi lines\n",
        "print('''line1\n",
        "2\n",
        "3''')"
      ],
      "execution_count": 0,
      "outputs": [
        {
          "output_type": "stream",
          "text": [
            "line1\n",
            "2\n",
            "3\n"
          ],
          "name": "stdout"
        }
      ]
    },
    {
      "cell_type": "code",
      "metadata": {
        "id": "ColNbAp_XylO",
        "colab_type": "code",
        "outputId": "cadedefd-d2ec-45a3-ecfb-5c481b74b6df",
        "colab": {}
      },
      "source": [
        "# print not change line\n",
        "for i in range(10):\n",
        "    print(i, end=',')"
      ],
      "execution_count": 0,
      "outputs": [
        {
          "output_type": "stream",
          "text": [
            "0,1,2,3,4,5,6,7,8,9,"
          ],
          "name": "stdout"
        }
      ]
    },
    {
      "cell_type": "markdown",
      "metadata": {
        "id": "7ESlHtclXylU",
        "colab_type": "text"
      },
      "source": [
        "## Loop"
      ]
    },
    {
      "cell_type": "markdown",
      "metadata": {
        "id": "rAM7ZFO5XylV",
        "colab_type": "text"
      },
      "source": [
        "### range"
      ]
    },
    {
      "cell_type": "code",
      "metadata": {
        "id": "gq63sbIlXylV",
        "colab_type": "code",
        "outputId": "4b104f06-9b21-4cae-fe3c-8df3df04166e",
        "colab": {}
      },
      "source": [
        "range(10)"
      ],
      "execution_count": 0,
      "outputs": [
        {
          "output_type": "execute_result",
          "data": {
            "text/plain": [
              "range(0, 10)"
            ]
          },
          "metadata": {
            "tags": []
          },
          "execution_count": 112
        }
      ]
    },
    {
      "cell_type": "markdown",
      "metadata": {
        "id": "YfEpLeCHXylZ",
        "colab_type": "text"
      },
      "source": [
        "## Operator"
      ]
    },
    {
      "cell_type": "code",
      "metadata": {
        "id": "yeRGSZ0cXyla",
        "colab_type": "code",
        "outputId": "2f07d7a4-4501-470c-b118-9e92444df20e",
        "colab": {}
      },
      "source": [
        "num = 1 if 3 < 2 else 2\n",
        "num"
      ],
      "execution_count": 0,
      "outputs": [
        {
          "output_type": "execute_result",
          "data": {
            "text/plain": [
              "2"
            ]
          },
          "metadata": {
            "tags": []
          },
          "execution_count": 13
        }
      ]
    },
    {
      "cell_type": "markdown",
      "metadata": {
        "id": "fzhXAWWfXylc",
        "colab_type": "text"
      },
      "source": [
        "# Function"
      ]
    },
    {
      "cell_type": "code",
      "metadata": {
        "id": "QxE8c3G1Xyld",
        "colab_type": "code",
        "outputId": "2c9895e4-1e83-49cd-be72-5512d10a4299",
        "colab": {}
      },
      "source": [
        "help(abs)"
      ],
      "execution_count": 0,
      "outputs": [
        {
          "output_type": "stream",
          "text": [
            "Help on built-in function abs in module builtins:\n",
            "\n",
            "abs(x, /)\n",
            "    Return the absolute value of the argument.\n",
            "\n"
          ],
          "name": "stdout"
        }
      ]
    },
    {
      "cell_type": "markdown",
      "metadata": {
        "id": "LX6fFMhEXylj",
        "colab_type": "text"
      },
      "source": [
        "## Args"
      ]
    },
    {
      "cell_type": "markdown",
      "metadata": {
        "id": "nbKeauQbXylk",
        "colab_type": "text"
      },
      "source": [
        "### Default Args"
      ]
    },
    {
      "cell_type": "code",
      "metadata": {
        "id": "WuD3Q8QIXyll",
        "colab_type": "code",
        "outputId": "3bf97c24-252a-43b9-d93a-f29d54771d72",
        "colab": {}
      },
      "source": [
        "def multi(x, y=1):\n",
        "    return x * y * y\n",
        "multi(1), multi(1, 2), multi(y=1, x=2)"
      ],
      "execution_count": 0,
      "outputs": [
        {
          "output_type": "execute_result",
          "data": {
            "text/plain": [
              "(1, 4, 2)"
            ]
          },
          "metadata": {
            "tags": []
          },
          "execution_count": 148
        }
      ]
    },
    {
      "cell_type": "code",
      "metadata": {
        "id": "gBBSe52DXylo",
        "colab_type": "code",
        "outputId": "94df1d49-10ab-4246-d71c-a465d2abd339",
        "colab": {}
      },
      "source": [
        "def multi(x=1):\n",
        "    return x * 2\n",
        "multi()"
      ],
      "execution_count": 0,
      "outputs": [
        {
          "output_type": "execute_result",
          "data": {
            "text/plain": [
              "2"
            ]
          },
          "metadata": {
            "tags": []
          },
          "execution_count": 158
        }
      ]
    },
    {
      "cell_type": "code",
      "metadata": {
        "id": "DQTztMDlXylr",
        "colab_type": "code",
        "colab": {}
      },
      "source": [
        "# this is ok\n",
        "multi()"
      ],
      "execution_count": 0,
      "outputs": []
    },
    {
      "cell_type": "code",
      "metadata": {
        "id": "nbGAkkPDXylu",
        "colab_type": "code",
        "outputId": "582d215c-bc37-40ec-da92-4112728105fa",
        "colab": {}
      },
      "source": [
        "def mul(x=[]):\n",
        "    x.append(1)\n",
        "    return x\n",
        "mul()"
      ],
      "execution_count": 0,
      "outputs": [
        {
          "output_type": "execute_result",
          "data": {
            "text/plain": [
              "[1]"
            ]
          },
          "metadata": {
            "tags": []
          },
          "execution_count": 155
        }
      ]
    },
    {
      "cell_type": "code",
      "metadata": {
        "scrolled": true,
        "id": "876hMR-pXylx",
        "colab_type": "code",
        "outputId": "2ec7a6d8-75bf-46f3-e09d-37d918a6aa71",
        "colab": {}
      },
      "source": [
        "# so do not use mutable default value as an argument\n",
        "mul()"
      ],
      "execution_count": 0,
      "outputs": [
        {
          "output_type": "execute_result",
          "data": {
            "text/plain": [
              "[1, 1]"
            ]
          },
          "metadata": {
            "tags": []
          },
          "execution_count": 156
        }
      ]
    },
    {
      "cell_type": "markdown",
      "metadata": {
        "id": "eY9McUEPXyl5",
        "colab_type": "text"
      },
      "source": [
        "### Variable Args"
      ]
    },
    {
      "cell_type": "code",
      "metadata": {
        "scrolled": true,
        "id": "21F9unQGXyl6",
        "colab_type": "code",
        "outputId": "fe3180d5-245c-4a45-ca02-605d5e382df5",
        "colab": {}
      },
      "source": [
        "def sum(*numbers):\n",
        "    sum = 0\n",
        "    for n in numbers:\n",
        "        sum += n\n",
        "    return sum\n",
        "sum(1,2,3)\n",
        "sum(*[1,2,3])"
      ],
      "execution_count": 0,
      "outputs": [
        {
          "output_type": "execute_result",
          "data": {
            "text/plain": [
              "6"
            ]
          },
          "metadata": {
            "tags": []
          },
          "execution_count": 163
        }
      ]
    },
    {
      "cell_type": "code",
      "metadata": {
        "scrolled": true,
        "id": "3ZnRqT8TXyl9",
        "colab_type": "code",
        "outputId": "71be2816-53d0-4d61-c3c5-088c2df3b44f",
        "colab": {}
      },
      "source": [
        "def dic(**dics):\n",
        "    print(dics['name'], dics['age'])\n",
        "dic(name='Fraiser', age=45, other=1)"
      ],
      "execution_count": 0,
      "outputs": [
        {
          "output_type": "stream",
          "text": [
            "Fraiser 45\n"
          ],
          "name": "stdout"
        }
      ]
    },
    {
      "cell_type": "code",
      "metadata": {
        "scrolled": true,
        "id": "1hw8NkdDXymD",
        "colab_type": "code",
        "outputId": "048b5c83-aaca-4a8c-c64a-a41678dfbab0",
        "colab": {}
      },
      "source": [
        "def dic(*, name, age):\n",
        "    print(name, age)\n",
        "# dic(name='Fraiser', age=45, other=1) this is error\n",
        "dic(name='Fraiser', age=45)"
      ],
      "execution_count": 0,
      "outputs": [
        {
          "output_type": "stream",
          "text": [
            "Fraiser 45\n"
          ],
          "name": "stdout"
        }
      ]
    },
    {
      "cell_type": "code",
      "metadata": {
        "scrolled": true,
        "id": "yLiC6KgqXymF",
        "colab_type": "code",
        "outputId": "2f1fb055-e87a-4309-d15b-46fa7dddf6d9",
        "colab": {}
      },
      "source": [
        "def f2(a, b, c=0, *, d, **kw):\n",
        "    print(a, b, c, d, kw)\n",
        "def f1(a, b, c=0, *args, **kw):\n",
        "    print(a, b, c, args, kw)\n",
        "f1(1, 2), f1(1,2,3), f1(1,2,3,'a','b'), f1(1,2,3,'a','b',x=99)"
      ],
      "execution_count": 0,
      "outputs": [
        {
          "output_type": "stream",
          "text": [
            "1 2 0 () {}\n",
            "1 2 3 () {}\n",
            "1 2 3 ('a', 'b') {}\n",
            "1 2 3 ('a', 'b') {'x': 99}\n"
          ],
          "name": "stdout"
        },
        {
          "output_type": "execute_result",
          "data": {
            "text/plain": [
              "(None, None, None, None)"
            ]
          },
          "metadata": {
            "tags": []
          },
          "execution_count": 189
        }
      ]
    },
    {
      "cell_type": "code",
      "metadata": {
        "scrolled": true,
        "id": "EmuUFFuGXymJ",
        "colab_type": "code",
        "outputId": "af81590b-a09a-4d32-eaa1-0daf5f7c16a2",
        "colab": {}
      },
      "source": [
        "def f2(a, b, c=0, *, d, **kw):\n",
        "    print(a, b, c, d, kw)\n",
        "def f1(a, b, c=0, *args, **kw):\n",
        "    print(a, b, c, args, kw)\n",
        "args = (1,2,3)\n",
        "kw = {'d':1,'x':3}\n",
        "f2(1,2,d=99,ext=None), f2(*args, **kw)"
      ],
      "execution_count": 0,
      "outputs": [
        {
          "output_type": "stream",
          "text": [
            "1 2 0 99 {'ext': None}\n",
            "1 2 3 1 {'x': 3}\n"
          ],
          "name": "stdout"
        },
        {
          "output_type": "execute_result",
          "data": {
            "text/plain": [
              "(None, None)"
            ]
          },
          "metadata": {
            "tags": []
          },
          "execution_count": 191
        }
      ]
    },
    {
      "cell_type": "markdown",
      "metadata": {
        "id": "sfzAHIQqXymM",
        "colab_type": "text"
      },
      "source": [
        "### Declare type"
      ]
    },
    {
      "cell_type": "code",
      "metadata": {
        "id": "oKWT7w2_XymN",
        "colab_type": "code",
        "outputId": "0565afea-fd69-40af-c398-d167b49180c2",
        "colab": {}
      },
      "source": [
        "def add(x:int, y:int) -> int:\n",
        "    return x + y\n",
        "add('s','2')"
      ],
      "execution_count": 0,
      "outputs": [
        {
          "output_type": "execute_result",
          "data": {
            "text/plain": [
              "'s2'"
            ]
          },
          "metadata": {
            "tags": []
          },
          "execution_count": 28
        }
      ]
    },
    {
      "cell_type": "markdown",
      "metadata": {
        "id": "nZK7ZqGBXymU",
        "colab_type": "text"
      },
      "source": [
        "## High-Order Function"
      ]
    },
    {
      "cell_type": "code",
      "metadata": {
        "id": "E0EzJAK1XymU",
        "colab_type": "code",
        "outputId": "179c4784-9009-4b75-d31b-43eb78f55d0f",
        "colab": {}
      },
      "source": [
        "# map\n",
        "def f(x):\n",
        "    return x*x\n",
        "\n",
        "r = map(f, list(range(10)))\n",
        "list(r)"
      ],
      "execution_count": 0,
      "outputs": [
        {
          "output_type": "execute_result",
          "data": {
            "text/plain": [
              "[0, 1, 4, 9, 16, 25, 36, 49, 64, 81]"
            ]
          },
          "metadata": {
            "tags": []
          },
          "execution_count": 276
        }
      ]
    },
    {
      "cell_type": "code",
      "metadata": {
        "scrolled": true,
        "id": "x-2-uiuKXymX",
        "colab_type": "code",
        "outputId": "10242fbe-ed1b-4e8f-8727-b54deee4bcd0",
        "colab": {}
      },
      "source": [
        "# reduce\n",
        "from functools import reduce\n",
        "def add(a, b):\n",
        "    return a + b\n",
        "\n",
        "def fn(x, y):\n",
        "    return x*10 + y\n",
        "\n",
        "reduce(add, [1,2,3]), reduce(fn, [1,2,3])"
      ],
      "execution_count": 0,
      "outputs": [
        {
          "output_type": "execute_result",
          "data": {
            "text/plain": [
              "(6, 123)"
            ]
          },
          "metadata": {
            "tags": []
          },
          "execution_count": 3
        }
      ]
    },
    {
      "cell_type": "code",
      "metadata": {
        "scrolled": true,
        "id": "zHaPxw6_Xymc",
        "colab_type": "code",
        "outputId": "5e459488-e5d4-4bdd-b6a5-15cda5ad7bc3",
        "colab": {}
      },
      "source": [
        "# filter\n",
        "def is_odd(n):\n",
        "    return n%2==1\n",
        "\n",
        "list(filter(is_odd, [1,2,3]))"
      ],
      "execution_count": 0,
      "outputs": [
        {
          "output_type": "execute_result",
          "data": {
            "text/plain": [
              "[1, 3]"
            ]
          },
          "metadata": {
            "tags": []
          },
          "execution_count": 4
        }
      ]
    },
    {
      "cell_type": "code",
      "metadata": {
        "scrolled": true,
        "id": "thAdve_XXymg",
        "colab_type": "code",
        "outputId": "cad9e80b-41d5-454a-caee-630643a42432",
        "colab": {}
      },
      "source": [
        "# sorted\n",
        "l = [1,3,-2]\n",
        "sorted(l), sorted(l, key=abs), sorted(l, reverse=True)"
      ],
      "execution_count": 0,
      "outputs": [
        {
          "output_type": "execute_result",
          "data": {
            "text/plain": [
              "([-2, 1, 3], [1, -2, 3], [3, 1, -2])"
            ]
          },
          "metadata": {
            "tags": []
          },
          "execution_count": 7
        }
      ]
    },
    {
      "cell_type": "code",
      "metadata": {
        "id": "qXwyFQWxXymm",
        "colab_type": "code",
        "colab": {}
      },
      "source": [
        "# todo return after "
      ],
      "execution_count": 0,
      "outputs": []
    },
    {
      "cell_type": "markdown",
      "metadata": {
        "id": "4HQxkEE3Xymq",
        "colab_type": "text"
      },
      "source": [
        "# Toolbox"
      ]
    },
    {
      "cell_type": "markdown",
      "metadata": {
        "id": "NexBMVJKXymr",
        "colab_type": "text"
      },
      "source": [
        "## Time"
      ]
    },
    {
      "cell_type": "code",
      "metadata": {
        "id": "IvWXnmucXymt",
        "colab_type": "code",
        "colab": {}
      },
      "source": [
        "import time\n",
        "from timeit import default_timer as timer"
      ],
      "execution_count": 0,
      "outputs": []
    },
    {
      "cell_type": "markdown",
      "metadata": {
        "id": "YN1ET-7tXymx",
        "colab_type": "text"
      },
      "source": [
        "### Measure time elapsed\n",
        "[Measure time elapsed in Python? - stackoverflow](https://stackoverflow.com/questions/7370801/measure-time-elapsed-in-python)"
      ]
    },
    {
      "cell_type": "code",
      "metadata": {
        "id": "NBFpV-7dXymy",
        "colab_type": "code",
        "outputId": "c8e89ac3-83d6-4701-cf7e-ce84855b4683",
        "colab": {}
      },
      "source": [
        "start = time.time()\n",
        "time.sleep(1)\n",
        "end = time.time()\n",
        "end - start"
      ],
      "execution_count": 0,
      "outputs": [
        {
          "output_type": "execute_result",
          "data": {
            "text/plain": [
              "1.0015285015106201"
            ]
          },
          "metadata": {
            "tags": []
          },
          "execution_count": 9
        }
      ]
    },
    {
      "cell_type": "code",
      "metadata": {
        "id": "lMRJ-Y3SXym2",
        "colab_type": "code",
        "outputId": "fbc379ba-6d27-42de-ed14-7388fac0b90d",
        "colab": {}
      },
      "source": [
        "start = timer()\n",
        "time.sleep(1)\n",
        "end = timer()\n",
        "end - start # Time in seconds, e.g. 5.38091952400282"
      ],
      "execution_count": 0,
      "outputs": [
        {
          "output_type": "execute_result",
          "data": {
            "text/plain": [
              "1.0015021907165647"
            ]
          },
          "metadata": {
            "tags": []
          },
          "execution_count": 6
        }
      ]
    },
    {
      "cell_type": "markdown",
      "metadata": {
        "id": "81DzEucIXym5",
        "colab_type": "text"
      },
      "source": [
        "# Collection"
      ]
    },
    {
      "cell_type": "markdown",
      "metadata": {
        "id": "p8Nn6NbaXym6",
        "colab_type": "text"
      },
      "source": [
        "## List and Tuple"
      ]
    },
    {
      "cell_type": "markdown",
      "metadata": {
        "id": "AY6wmEo8Xym7",
        "colab_type": "text"
      },
      "source": [
        "### Generate & Select & Update"
      ]
    },
    {
      "cell_type": "code",
      "metadata": {
        "id": "-p2U15fkXym8",
        "colab_type": "code",
        "outputId": "fb4d8a5d-bc4a-4282-b9af-57f4ea54ed07",
        "colab": {}
      },
      "source": [
        "l1 = [1,2,3]\n",
        "l2 = list(range(20))\n",
        "# list generator\n",
        "l3 = [x*x for x in range(10)]\n",
        "l4 = [x*x for x in range(10) if x %2 == 0]\n",
        "l5 = [m + n for m in 'ABC' for n in 'xyz']\n",
        "l1, l2, l3, l4, l5, len(l1)"
      ],
      "execution_count": 0,
      "outputs": [
        {
          "output_type": "execute_result",
          "data": {
            "text/plain": [
              "([1, 2, 3],\n",
              " [0, 1, 2, 3, 4, 5, 6, 7, 8, 9, 10, 11, 12, 13, 14, 15, 16, 17, 18, 19],\n",
              " [0, 1, 4, 9, 16, 25, 36, 49, 64, 81],\n",
              " [0, 4, 16, 36, 64],\n",
              " ['Ax', 'Ay', 'Az', 'Bx', 'By', 'Bz', 'Cx', 'Cy', 'Cz'],\n",
              " 3)"
            ]
          },
          "metadata": {
            "tags": []
          },
          "execution_count": 245
        }
      ]
    },
    {
      "cell_type": "code",
      "metadata": {
        "id": "ISPvvuBfXynB",
        "colab_type": "code",
        "outputId": "993b8c83-1ae8-4f08-e702-4ea9df49e03e",
        "colab": {}
      },
      "source": [
        "# generator not create list, just deduce\n",
        "g = (x*x for x in range(10))\n",
        "for i in range(3):\n",
        "    print(next(g), end=',')\n",
        "print()\n",
        "for i in g:\n",
        "    print(i, end=',')\n",
        "type(g)"
      ],
      "execution_count": 0,
      "outputs": [
        {
          "output_type": "stream",
          "text": [
            "0,1,4,\n",
            "9,16,25,36,49,64,81,"
          ],
          "name": "stdout"
        },
        {
          "output_type": "execute_result",
          "data": {
            "text/plain": [
              "generator"
            ]
          },
          "metadata": {
            "tags": []
          },
          "execution_count": 265
        }
      ]
    },
    {
      "cell_type": "code",
      "metadata": {
        "id": "Q_2ozDR7XynE",
        "colab_type": "code",
        "outputId": "36b4edb7-aa89-476b-886a-f0c8140ac78b",
        "colab": {}
      },
      "source": [
        "# generator not create list, just deduce\n",
        "def plus():\n",
        "    for i in range(10):\n",
        "        yield i\n",
        "\n",
        "for i in plus():\n",
        "    print(i, end=',')\n",
        "print()\n",
        "g = plus()\n",
        "for i in g:\n",
        "    print(i, end=',')\n",
        "type(plus()), type(plus)"
      ],
      "execution_count": 0,
      "outputs": [
        {
          "output_type": "stream",
          "text": [
            "0,1,2,3,4,5,6,7,8,9,\n",
            "0,1,2,3,4,5,6,7,8,9,"
          ],
          "name": "stdout"
        },
        {
          "output_type": "execute_result",
          "data": {
            "text/plain": [
              "(generator, function)"
            ]
          },
          "metadata": {
            "tags": []
          },
          "execution_count": 272
        }
      ]
    },
    {
      "cell_type": "code",
      "metadata": {
        "id": "pS-D9-5GXynH",
        "colab_type": "code",
        "outputId": "216b44a3-4446-4e8e-c9fc-14ae9d091c94",
        "colab": {}
      },
      "source": [
        "# delete & update\n",
        "l = list(range(1, 10))\n",
        "# delete by position\n",
        "print(l)\n",
        "print(l.pop(), l.pop(2))\n",
        "# delete by value\n",
        "l.remove(5)\n",
        "l"
      ],
      "execution_count": 0,
      "outputs": [
        {
          "output_type": "stream",
          "text": [
            "[1, 2, 3, 4, 5, 6, 7, 8, 9]\n",
            "9 3\n"
          ],
          "name": "stdout"
        },
        {
          "output_type": "execute_result",
          "data": {
            "text/plain": [
              "[1, 2, 4, 6, 7, 8]"
            ]
          },
          "metadata": {
            "tags": []
          },
          "execution_count": 36
        }
      ]
    },
    {
      "cell_type": "code",
      "metadata": {
        "id": "JIwnkWCiXynL",
        "colab_type": "code",
        "outputId": "3c9f1eca-25e1-4e0f-ae4d-6e1d6441d033",
        "colab": {}
      },
      "source": [
        "# delete & update\n",
        "l = list(range(10))\n",
        "l.pop()\n",
        "l.pop(0)\n",
        "l\n",
        "print('after', l.pop(), l.pop(0),l)\n",
        "l[0] = 0\n",
        "l"
      ],
      "execution_count": 0,
      "outputs": [
        {
          "output_type": "stream",
          "text": [
            "[0, 1, 2, 3, 4, 5, 6, 7, 8, 9]\n",
            "after 9 0 [1, 2, 3, 4, 5, 6, 7, 8]\n"
          ],
          "name": "stdout"
        },
        {
          "output_type": "execute_result",
          "data": {
            "text/plain": [
              "[0, 2, 3, 4, 5, 6, 7, 8]"
            ]
          },
          "metadata": {
            "tags": []
          },
          "execution_count": 241
        }
      ]
    },
    {
      "cell_type": "code",
      "metadata": {
        "id": "F0BtXCJtXynQ",
        "colab_type": "code",
        "outputId": "2a2a962f-0aec-48ed-95b6-a898fa918f5b",
        "colab": {}
      },
      "source": [
        "# tuple is final\n",
        "c = (2,1,3)\n",
        "# , is needed\n",
        "num_one = (1)\n",
        "single_c = (1,)\n",
        "c, num_one, single_c"
      ],
      "execution_count": 0,
      "outputs": [
        {
          "output_type": "execute_result",
          "data": {
            "text/plain": [
              "((2, 1, 3), 1, (1,))"
            ]
          },
          "metadata": {
            "tags": []
          },
          "execution_count": 104
        }
      ]
    },
    {
      "cell_type": "code",
      "metadata": {
        "id": "BahlPgAQXynX",
        "colab_type": "code",
        "outputId": "83caad29-858c-461b-d511-dc852738af0d",
        "colab": {}
      },
      "source": [
        "# advanced\n",
        "l.append('app')\n",
        "l.insert(0, 4)\n",
        "l"
      ],
      "execution_count": 0,
      "outputs": [
        {
          "output_type": "execute_result",
          "data": {
            "text/plain": [
              "[4,\n",
              " 0,\n",
              " 1,\n",
              " 2,\n",
              " 3,\n",
              " 4,\n",
              " 5,\n",
              " 6,\n",
              " 7,\n",
              " 8,\n",
              " 9,\n",
              " 10,\n",
              " 11,\n",
              " 12,\n",
              " 13,\n",
              " 14,\n",
              " 15,\n",
              " 16,\n",
              " 17,\n",
              " 18,\n",
              " 19,\n",
              " 'app']"
            ]
          },
          "metadata": {
            "tags": []
          },
          "execution_count": 224
        }
      ]
    },
    {
      "cell_type": "markdown",
      "metadata": {
        "id": "zyc93ya2Xyna",
        "colab_type": "text"
      },
      "source": [
        "### Cut"
      ]
    },
    {
      "cell_type": "code",
      "metadata": {
        "id": "keKaBPEPXynb",
        "colab_type": "code",
        "outputId": "a3c4e449-6cec-4edb-8469-75fd6eaf0057",
        "colab": {}
      },
      "source": [
        "# visit\n",
        "l[0], l[-1], l[0:2], l[-3:-1]"
      ],
      "execution_count": 0,
      "outputs": [
        {
          "output_type": "execute_result",
          "data": {
            "text/plain": [
              "(0, 19, [0, 1], [17, 18])"
            ]
          },
          "metadata": {
            "tags": []
          },
          "execution_count": 219
        }
      ]
    },
    {
      "cell_type": "code",
      "metadata": {
        "id": "pFPZVsDZXynf",
        "colab_type": "code",
        "outputId": "72d6c7bd-b629-42a6-db9b-02ce34264ae9",
        "colab": {}
      },
      "source": [
        "# basic\n",
        "l = list(range(20))\n",
        "l[:], l[:10], l[:10:3], l[::4]"
      ],
      "execution_count": 0,
      "outputs": [
        {
          "output_type": "execute_result",
          "data": {
            "text/plain": [
              "([0, 1, 2, 3, 4, 5, 6, 7, 8, 9, 10, 11, 12, 13, 14, 15, 16, 17, 18, 19],\n",
              " [0, 1, 2, 3, 4, 5, 6, 7, 8, 9],\n",
              " [0, 3, 6, 9],\n",
              " [0, 4, 8, 12, 16])"
            ]
          },
          "metadata": {
            "tags": []
          },
          "execution_count": 223
        }
      ]
    },
    {
      "cell_type": "markdown",
      "metadata": {
        "id": "Gad_PUnuXyni",
        "colab_type": "text"
      },
      "source": [
        "### Loop"
      ]
    },
    {
      "cell_type": "code",
      "metadata": {
        "id": "IGj0URpkXynm",
        "colab_type": "code",
        "outputId": "38c866c9-651d-419e-b235-fb1e3e699354",
        "colab": {}
      },
      "source": [
        "l = [1,2]\n",
        "for i, item in enumerate(l):\n",
        "    print(i, item)"
      ],
      "execution_count": 0,
      "outputs": [
        {
          "output_type": "stream",
          "text": [
            "0 1\n",
            "1 2\n"
          ],
          "name": "stdout"
        }
      ]
    },
    {
      "cell_type": "markdown",
      "metadata": {
        "id": "YS5V0RQbXyns",
        "colab_type": "text"
      },
      "source": [
        "## Dict and Set"
      ]
    },
    {
      "cell_type": "code",
      "metadata": {
        "id": "WGu5eb8cXynu",
        "colab_type": "code",
        "outputId": "a512b12d-a991-464d-f0a2-8c1977a25827",
        "colab": {}
      },
      "source": [
        "d = {'a':1, 'b':2, 'c':3}\n",
        "d['a']"
      ],
      "execution_count": 0,
      "outputs": [
        {
          "output_type": "execute_result",
          "data": {
            "text/plain": [
              "1"
            ]
          },
          "metadata": {
            "tags": []
          },
          "execution_count": 116
        }
      ]
    },
    {
      "cell_type": "code",
      "metadata": {
        "id": "1hjFe11tXynz",
        "colab_type": "code",
        "outputId": "895ceeb0-8550-4f2b-89d2-4832567263b0",
        "colab": {}
      },
      "source": [
        "# add & delete & update\n",
        "d['a']=0\n",
        "d.pop('a')\n",
        "d['d']=4\n",
        "d"
      ],
      "execution_count": 0,
      "outputs": [
        {
          "output_type": "execute_result",
          "data": {
            "text/plain": [
              "{'b': 2, 'c': 3, 'd': 4}"
            ]
          },
          "metadata": {
            "tags": []
          },
          "execution_count": 120
        }
      ]
    },
    {
      "cell_type": "code",
      "metadata": {
        "id": "niIWHfYxXyn3",
        "colab_type": "code",
        "outputId": "6b872751-464c-4aed-be77-2384dd9b96fe",
        "colab": {}
      },
      "source": [
        "# check\n",
        "print(d.get('a'))\n",
        "'a' in d, 'b' in d, d.get('a', -1)"
      ],
      "execution_count": 0,
      "outputs": [
        {
          "output_type": "stream",
          "text": [
            "None\n"
          ],
          "name": "stdout"
        },
        {
          "output_type": "execute_result",
          "data": {
            "text/plain": [
              "(False, True, -1)"
            ]
          },
          "metadata": {
            "tags": []
          },
          "execution_count": 125
        }
      ]
    },
    {
      "cell_type": "code",
      "metadata": {
        "id": "G3N70k4nXyn7",
        "colab_type": "code",
        "outputId": "1b139563-bd0c-4bb8-f1f7-dd139e867ecf",
        "colab": {}
      },
      "source": [
        "# set\n",
        "s1 = set([1,1,2,3,])\n",
        "s2 = set([2,3,4])\n",
        "print(s1, s2)\n",
        "print(s1 & s2)\n",
        "print(s1 | s2)\n",
        "print(s1 ^ s2)"
      ],
      "execution_count": 0,
      "outputs": [
        {
          "output_type": "stream",
          "text": [
            "{1, 2, 3} {2, 3, 4}\n",
            "{2, 3}\n",
            "{1, 2, 3, 4}\n",
            "{1, 4}\n"
          ],
          "name": "stdout"
        }
      ]
    },
    {
      "cell_type": "code",
      "metadata": {
        "id": "XzqQVxi8Xyn-",
        "colab_type": "code",
        "outputId": "42686f04-58c6-4295-bf0e-e34e215c5aba",
        "colab": {}
      },
      "source": [
        "# set\n",
        "s.remove(1)\n",
        "s"
      ],
      "execution_count": 0,
      "outputs": [
        {
          "output_type": "execute_result",
          "data": {
            "text/plain": [
              "{2, 3}"
            ]
          },
          "metadata": {
            "tags": []
          },
          "execution_count": 133
        }
      ]
    },
    {
      "cell_type": "markdown",
      "metadata": {
        "id": "HY-H8Ac1XyoA",
        "colab_type": "text"
      },
      "source": [
        "loop"
      ]
    },
    {
      "cell_type": "code",
      "metadata": {
        "id": "KdHmgEwIXyoB",
        "colab_type": "code",
        "outputId": "b3ccae6f-006d-4744-d91c-2aa525d519e1",
        "colab": {}
      },
      "source": [
        "d = {'x': 1, 'y': 2, 'z': 3}\n",
        "for key, value in d.items():\n",
        "    print(key, value)\n"
      ],
      "execution_count": 0,
      "outputs": [
        {
          "output_type": "stream",
          "text": [
            "x 1\n",
            "y 2\n",
            "z 3\n"
          ],
          "name": "stdout"
        }
      ]
    },
    {
      "cell_type": "markdown",
      "metadata": {
        "id": "4fOtuKr9XyoD",
        "colab_type": "text"
      },
      "source": [
        "count list to dic"
      ]
    },
    {
      "cell_type": "code",
      "metadata": {
        "id": "btJWE9zUXyoE",
        "colab_type": "code",
        "outputId": "3305d91f-f79b-4f8d-8c1b-41d7eafcbfe1",
        "colab": {}
      },
      "source": [
        "from collections import Counter\n",
        "l = [1, 2, 1, 2, 3, 3, 3]\n",
        "print(Counter(l))\n",
        "print(Counter(l).most_common(2))"
      ],
      "execution_count": 0,
      "outputs": [
        {
          "output_type": "stream",
          "text": [
            "Counter({3: 3, 1: 2, 2: 2})\n",
            "[(3, 3), (1, 2)]\n"
          ],
          "name": "stdout"
        }
      ]
    },
    {
      "cell_type": "markdown",
      "metadata": {
        "id": "ViuUARThXyoH",
        "colab_type": "text"
      },
      "source": [
        "remove duplicate item from list"
      ]
    },
    {
      "cell_type": "code",
      "metadata": {
        "id": "1_Eoqgz7XyoH",
        "colab_type": "code",
        "outputId": "515cb6e8-d104-4e25-d91f-1e5eecbb0312",
        "colab": {}
      },
      "source": [
        "print(l)\n",
        "print(list(set(l)))\n"
      ],
      "execution_count": 0,
      "outputs": [
        {
          "output_type": "stream",
          "text": [
            "[1, 2, 1, 2, 3, 3, 3]\n",
            "[1, 2, 3]\n"
          ],
          "name": "stdout"
        }
      ]
    },
    {
      "cell_type": "code",
      "metadata": {
        "id": "qTsO8kyiXyoM",
        "colab_type": "code",
        "outputId": "35b64bdc-4c37-474b-b0ad-705f35f968b6",
        "colab": {}
      },
      "source": [
        "vocab_list = ['a', 'b']\n",
        "mp = {item: i for i, item in enumerate(vocab_list)}\n",
        "mp"
      ],
      "execution_count": 0,
      "outputs": [
        {
          "output_type": "execute_result",
          "data": {
            "text/plain": [
              "{'a': 0, 'b': 1}"
            ]
          },
          "metadata": {
            "tags": []
          },
          "execution_count": 8
        }
      ]
    },
    {
      "cell_type": "code",
      "metadata": {
        "id": "_XvZaHUcXyoO",
        "colab_type": "code",
        "outputId": "f7ebb731-1758-4a75-f061-669c0b95b980",
        "colab": {}
      },
      "source": [
        "[0]*19"
      ],
      "execution_count": 0,
      "outputs": [
        {
          "output_type": "execute_result",
          "data": {
            "text/plain": [
              "[0, 0, 0, 0, 0, 0, 0, 0, 0, 0, 0, 0, 0, 0, 0, 0, 0, 0, 0]"
            ]
          },
          "metadata": {
            "tags": []
          },
          "execution_count": 9
        }
      ]
    },
    {
      "cell_type": "code",
      "metadata": {
        "id": "Rm7toS34XyoR",
        "colab_type": "code",
        "outputId": "7977930f-b369-4e5f-ed3e-130a136fccd2",
        "colab": {}
      },
      "source": [
        "l = [str(a) + '*' + str(b+1) for a in range(10) for b in range(a)]\n",
        "l\n",
        "[print(i) for i in range(10) for j in range(i)]"
      ],
      "execution_count": 0,
      "outputs": [
        {
          "output_type": "error",
          "ename": "SyntaxError",
          "evalue": "invalid syntax (<ipython-input-19-6a9495f19644>, line 3)",
          "traceback": [
            "\u001b[0;36m  File \u001b[0;32m\"<ipython-input-19-6a9495f19644>\"\u001b[0;36m, line \u001b[0;32m3\u001b[0m\n\u001b[0;31m    [print(i) for i in range(10) print(j) for j in range(i)]\u001b[0m\n\u001b[0m                                     ^\u001b[0m\n\u001b[0;31mSyntaxError\u001b[0m\u001b[0;31m:\u001b[0m invalid syntax\n"
          ]
        }
      ]
    },
    {
      "cell_type": "code",
      "metadata": {
        "id": "oFz_4mOVXyoV",
        "colab_type": "code",
        "outputId": "ea188bc2-3dc9-4e7c-aedb-c0f6bbd36feb",
        "colab": {}
      },
      "source": [
        "[i for i in range(10) for j in range(i)]\n",
        "for i in range(10):\n",
        "    for j in range(i):\n",
        "        print(in)"
      ],
      "execution_count": 0,
      "outputs": [
        {
          "output_type": "error",
          "ename": "SyntaxError",
          "evalue": "invalid syntax (<ipython-input-55-74c8c94bbf8b>, line 4)",
          "traceback": [
            "\u001b[0;36m  File \u001b[0;32m\"<ipython-input-55-74c8c94bbf8b>\"\u001b[0;36m, line \u001b[0;32m4\u001b[0m\n\u001b[0;31m    print(in)\u001b[0m\n\u001b[0m           ^\u001b[0m\n\u001b[0;31mSyntaxError\u001b[0m\u001b[0;31m:\u001b[0m invalid syntax\n"
          ]
        }
      ]
    },
    {
      "cell_type": "markdown",
      "metadata": {
        "id": "CRc2rKclXyoY",
        "colab_type": "text"
      },
      "source": [
        ""
      ]
    },
    {
      "cell_type": "code",
      "metadata": {
        "id": "kB0H_5p0XyoZ",
        "colab_type": "code",
        "outputId": "749fd89e-caf8-4ae6-b063-bbdd5134261b",
        "colab": {}
      },
      "source": [
        "list(range(2,9))"
      ],
      "execution_count": 0,
      "outputs": [
        {
          "output_type": "execute_result",
          "data": {
            "text/plain": [
              "[2, 3, 4, 5, 6, 7, 8]"
            ]
          },
          "metadata": {
            "tags": []
          },
          "execution_count": 57
        }
      ]
    },
    {
      "cell_type": "code",
      "metadata": {
        "id": "o93LsDtZXyob",
        "colab_type": "code",
        "colab": {}
      },
      "source": [
        "start = timer()\n",
        "d = np.loadtxt('/root/fromwin/n16.MNIST.train.csv', delimiter=',')\n",
        "end = timer()\n",
        "end - start, d # Time in seconds, e.g. 5.38091952400282"
      ],
      "execution_count": 0,
      "outputs": []
    },
    {
      "cell_type": "code",
      "metadata": {
        "id": "eqnT01SzXyof",
        "colab_type": "code",
        "colab": {}
      },
      "source": [
        "import numpy as np"
      ],
      "execution_count": 0,
      "outputs": []
    },
    {
      "cell_type": "markdown",
      "metadata": {
        "id": "xdKAds5uXyok",
        "colab_type": "text"
      },
      "source": [
        "# Command Line"
      ]
    },
    {
      "cell_type": "code",
      "metadata": {
        "id": "2fFSNXpxXyok",
        "colab_type": "code",
        "outputId": "e39be003-3dc3-4abf-aaec-a97f929d2938",
        "colab": {}
      },
      "source": [
        "import argparse\n",
        "parser = argparse.ArgumentParser(description=\"progrom description\")\n",
        "parser.add_argument('key', help=\"Redis key where items are stored\")\n",
        "parser.add_argument('--host')\n",
        "arser.add_argument('--port')\n",
        "parser.add_argument('--timeout', type=int, default=5)\n",
        "parser.add_argument('--limit', type=int, default=0)\n",
        "parser.add_argument('--progress_every', type=int, default=100)\n",
        "parser.add_argument('-v', '--verbose', action='store_true')\n",
        "args = parser.parse_args()\n",
        "\n",
        "key = args.key\n",
        "host = args.host\n",
        "port = args.port\n",
        "timeout = args.timeout\n",
        "limit = args.limit\n",
        "progress-every = args.progress_every\n",
        "verbose = args.verbose"
      ],
      "execution_count": 0,
      "outputs": [
        {
          "output_type": "error",
          "ename": "SyntaxError",
          "evalue": "can't assign to operator (<ipython-input-1-ccf3b2613e52>, line 17)",
          "traceback": [
            "\u001b[0;36m  File \u001b[0;32m\"<ipython-input-1-ccf3b2613e52>\"\u001b[0;36m, line \u001b[0;32m17\u001b[0m\n\u001b[0;31m    progress-every = args.progress_every\u001b[0m\n\u001b[0m                                        ^\u001b[0m\n\u001b[0;31mSyntaxError\u001b[0m\u001b[0;31m:\u001b[0m can't assign to operator\n"
          ]
        }
      ]
    },
    {
      "cell_type": "markdown",
      "metadata": {
        "id": "tKZzYTQGXyon",
        "colab_type": "text"
      },
      "source": [
        "# File"
      ]
    },
    {
      "cell_type": "code",
      "metadata": {
        "id": "yecDDvbTXyoq",
        "colab_type": "code",
        "colab": {}
      },
      "source": [
        "import pickle"
      ],
      "execution_count": 0,
      "outputs": []
    },
    {
      "cell_type": "code",
      "metadata": {
        "id": "HrE4ECiAXyov",
        "colab_type": "code",
        "outputId": "01eae8c9-e0d7-4f78-9a53-a459c0d0bef6",
        "colab": {}
      },
      "source": [
        "arr = [1, 2, 3]\n",
        "with open('data/binary_list', 'wb') as f:\n",
        "    pickle.dump(arr, f)\n",
        "    byte_arr = pickle.dumps(arr)\n",
        "byte_arr"
      ],
      "execution_count": 0,
      "outputs": [
        {
          "output_type": "execute_result",
          "data": {
            "text/plain": [
              "b'\\x80\\x03]q\\x00(K\\x01K\\x02K\\x03e.'"
            ]
          },
          "metadata": {
            "tags": []
          },
          "execution_count": 14
        }
      ]
    },
    {
      "cell_type": "code",
      "metadata": {
        "id": "Xyd-4hr9Xyo0",
        "colab_type": "code",
        "outputId": "dd8560d1-4155-432c-a278-9d8dc03ac191",
        "colab": {}
      },
      "source": [
        "with open('data/binary_list', 'rb') as f:\n",
        "    arr = pickle.load(f)\n",
        "with open('data/binary_list', 'rb') as f:\n",
        "    byte_arr = f.read()\n",
        "arr, pickle.loads(byte_arr)"
      ],
      "execution_count": 0,
      "outputs": [
        {
          "output_type": "execute_result",
          "data": {
            "text/plain": [
              "([1, 2, 3], [1, 2, 3])"
            ]
          },
          "metadata": {
            "tags": []
          },
          "execution_count": 11
        }
      ]
    },
    {
      "cell_type": "markdown",
      "metadata": {
        "id": "TyBiDs2PXyo3",
        "colab_type": "text"
      },
      "source": [
        "list file"
      ]
    },
    {
      "cell_type": "markdown",
      "metadata": {
        "id": "hpjPiOiCXyo4",
        "colab_type": "text"
      },
      "source": [
        "https://stackoverflow.com/questions/3207219/how-do-i-list-all-files-of-a-directory"
      ]
    },
    {
      "cell_type": "markdown",
      "metadata": {
        "id": "SBrFXrJ6Xyo5",
        "colab_type": "text"
      },
      "source": [
        "# Reflect"
      ]
    },
    {
      "cell_type": "code",
      "metadata": {
        "id": "A1cFA9q2Xyo6",
        "colab_type": "code",
        "outputId": "def68182-5673-47ba-a2fd-33c53744ff44",
        "colab": {}
      },
      "source": [
        "Class Person:\n",
        "    def __init__(self, name):\n",
        "        self.name = name\n",
        "\n",
        "    def sayhi():\n",
        "        print(self.name)\n",
        "\n",
        "lee = Person('lee')\n",
        "# get attr or method\n",
        "getattr(lee, 'name')\n",
        "# set or add attr\n",
        "setattr(lee, 'name', 'jiang')\n",
        "setattr(lee, 'birth', '0411')\n",
        "# call function\n",
        "getattr(lee, 'sayhi')()"
      ],
      "execution_count": 0,
      "outputs": [
        {
          "output_type": "error",
          "ename": "SyntaxError",
          "evalue": "invalid syntax (<ipython-input-3-0c70dc3af707>, line 1)",
          "traceback": [
            "\u001b[0;36m  File \u001b[0;32m\"<ipython-input-3-0c70dc3af707>\"\u001b[0;36m, line \u001b[0;32m1\u001b[0m\n\u001b[0;31m    Class Person:\u001b[0m\n\u001b[0m               ^\u001b[0m\n\u001b[0;31mSyntaxError\u001b[0m\u001b[0;31m:\u001b[0m invalid syntax\n"
          ]
        }
      ]
    },
    {
      "cell_type": "code",
      "metadata": {
        "id": "xZP7bE23Xyo7",
        "colab_type": "code",
        "colab": {}
      },
      "source": [
        ""
      ],
      "execution_count": 0,
      "outputs": []
    }
  ]
}